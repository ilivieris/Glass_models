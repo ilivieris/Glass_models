{
 "cells": [
  {
   "cell_type": "code",
   "execution_count": null,
   "metadata": {},
   "outputs": [],
   "source": [
    "import pickle\n",
    "# Load the model using spaCy\n",
    "import spacy"
   ]
  },
  {
   "cell_type": "code",
   "execution_count": 46,
   "metadata": {},
   "outputs": [],
   "source": [
    "# Load Label encoder\n",
    "encoder = pickle.load(open('label_encoder.sav', 'rb'))\n",
    "# Load prediction model\n",
    "model = pickle.load(open('../artifacts/1/4ad355a2e9464b74a7fd31294b213051/artifacts/models/model.pkl', 'rb'))\n",
    "# Load spacy model\n",
    "nlp = spacy.load(\"el_core_news_sm\")"
   ]
  },
  {
   "cell_type": "code",
   "execution_count": 47,
   "metadata": {},
   "outputs": [
    {
     "data": {
      "text/plain": [
       "array(['CCV:00022'], dtype=object)"
      ]
     },
     "execution_count": 47,
     "metadata": {},
     "output_type": "execute_result"
    }
   ],
   "source": [
    "def inference(text):\n",
    "    # Get embeddings\n",
    "    embeddings = nlp(text).vector\n",
    "    # Get model's prediction\n",
    "    pred = model.predict( embeddings.reshape(1,-1) )\n",
    "    # Return class\n",
    "    return encoder.inverse_transform(pred)\n",
    "\n",
    "\n",
    "inference('Θεσσαλονίκη')"
   ]
  },
  {
   "cell_type": "code",
   "execution_count": null,
   "metadata": {},
   "outputs": [],
   "source": []
  }
 ],
 "metadata": {
  "kernelspec": {
   "display_name": "NLP",
   "language": "python",
   "name": "python3"
  },
  "language_info": {
   "codemirror_mode": {
    "name": "ipython",
    "version": 3
   },
   "file_extension": ".py",
   "mimetype": "text/x-python",
   "name": "python",
   "nbconvert_exporter": "python",
   "pygments_lexer": "ipython3",
   "version": "3.8.16"
  },
  "orig_nbformat": 4
 },
 "nbformat": 4,
 "nbformat_minor": 2
}

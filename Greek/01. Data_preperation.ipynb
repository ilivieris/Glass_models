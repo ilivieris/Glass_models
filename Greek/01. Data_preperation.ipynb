{
 "cells": [
  {
   "cell_type": "code",
   "execution_count": null,
   "metadata": {},
   "outputs": [],
   "source": [
    "import spacy\n",
    "import pandas as pd\n",
    "import numpy as np\n",
    "from tqdm import tqdm\n",
    "# python -m spacy download el_core_news_sm"
   ]
  },
  {
   "attachments": {},
   "cell_type": "markdown",
   "metadata": {},
   "source": [
    "### Load data"
   ]
  },
  {
   "cell_type": "code",
   "execution_count": null,
   "metadata": {},
   "outputs": [],
   "source": [
    "# Import data\n",
    "df = pd.read_csv('Data/_20230622-052634_training.tsv', sep='\\t', header=None)"
   ]
  },
  {
   "attachments": {},
   "cell_type": "markdown",
   "metadata": {},
   "source": [
    "### Preprocess"
   ]
  },
  {
   "cell_type": "code",
   "execution_count": null,
   "metadata": {},
   "outputs": [],
   "source": [
    "# Rename columns\n",
    "df.rename(columns = {0: 'Value',\n",
    "                     1: 'Evidence_type',\n",
    "                     2: 'CCV'}, \n",
    "          inplace = True)\n",
    "\n",
    "# Remove evidence_type\n",
    "df.drop('Evidence_type', axis=1, inplace=True)\n",
    "\n",
    "# Remove duplicates\n",
    "df.drop_duplicates(inplace=True)\n",
    "\n",
    "# Remove ENG instances\n",
    "ENG_ccvs = [ccv for ccv in df['CCV'].unique() if 'ENG' in ccv]\n",
    "df = df[ ~df['CCV'].isin(ENG_ccvs) ]\n",
    "\n",
    "# Drop CCVs, which can be handled with hard-rules\n",
    "drop_CCVs = ['CCV:00004', 'CCV:00012', 'CCV:00013', 'CCV:00014', \n",
    "             'CCV:00071', 'CCV:00072', 'CCV:00073', 'CCV:00084', \n",
    "             'CCV:00094', 'CCV:00034', 'CCV:00035', 'CCV:00036', 'CCV:00100',\n",
    "             'CCV:00042', 'CCV:00043', 'CCV:00047', 'CCV:00048', \n",
    "             'CCV:00066', 'CCV:00067', 'CCV:00068', 'CCV:00069', \n",
    "             'CCV:00083', 'CCV:00028', 'CCV:00029', 'CCV:00079', \n",
    "             'CCV:00080', 'CCV:00081', 'CCV:00082', 'CCV:00085', \n",
    "             'CCV:00087', 'CCV:00088', 'CCV:00089', 'CCV:00090', \n",
    "             'CCV:00092', 'CCV:00093', 'CCV:00038', 'CCV:00022', \n",
    "             'CCV:00025', 'CCV:00026', 'CCV:00041', 'CCV:00053', \n",
    "             'CCV:00054', 'CCV:00049', 'CCV:00057', 'CCV:00058', \n",
    "             'CCV:00059', 'CCV:00061', 'CCV:00062', 'CCV:00063',\n",
    "             'CCV:00096', 'CCV:00097', 'CCV:00098', 'CCV:00099']\n",
    "\n",
    "df = df[ ~df['CCV'].isin(drop_CCVs) ]\n",
    "\n",
    "# Reset index\n",
    "df = df.reset_index().drop('index', axis=1)\n",
    "print('Number of records: ', df.shape[0])"
   ]
  },
  {
   "cell_type": "code",
   "execution_count": null,
   "metadata": {},
   "outputs": [],
   "source": [
    "# If an instance is contained in two or more CCVs, then we randomly choose one of them\n",
    "df = df.sample(frac=1).reset_index(drop=True)\n",
    "\n",
    "select_indices = df.drop('CCV', axis=1).drop_duplicates().index\n",
    "\n",
    "df = df.iloc[select_indices]\n",
    "print('Number of records: ', df.shape[0])"
   ]
  },
  {
   "attachments": {},
   "cell_type": "markdown",
   "metadata": {},
   "source": [
    "### Create input/output ndarrays"
   ]
  },
  {
   "cell_type": "code",
   "execution_count": null,
   "metadata": {},
   "outputs": [],
   "source": [
    "from tqdm import  tqdm\n",
    "nlp = spacy.load(\"el_core_news_sm\")\n",
    "\n",
    "X = np.array( [nlp(x).vector for x in tqdm(df['Value'].values)] )\n",
    "\n",
    "np.savez('Data/data.npz', X=X, y=df['CCV'].to_numpy())"
   ]
  }
 ],
 "metadata": {
  "kernelspec": {
   "display_name": "ML",
   "language": "python",
   "name": "python3"
  },
  "language_info": {
   "codemirror_mode": {
    "name": "ipython",
    "version": 3
   },
   "file_extension": ".py",
   "mimetype": "text/x-python",
   "name": "python",
   "nbconvert_exporter": "python",
   "pygments_lexer": "ipython3",
   "version": "3.8.16"
  },
  "orig_nbformat": 4
 },
 "nbformat": 4,
 "nbformat_minor": 2
}

{
 "cells": [
  {
   "cell_type": "code",
   "execution_count": 86,
   "metadata": {},
   "outputs": [],
   "source": [
    "import spacy\n",
    "import pandas as pd\n",
    "import numpy as np\n",
    "from tqdm import tqdm\n",
    "\n",
    "# python -m spacy download el_core_news_sm"
   ]
  },
  {
   "attachments": {},
   "cell_type": "markdown",
   "metadata": {},
   "source": [
    "### Load data"
   ]
  },
  {
   "cell_type": "code",
   "execution_count": 87,
   "metadata": {},
   "outputs": [
    {
     "name": "stderr",
     "output_type": "stream",
     "text": [
      "c:\\Users\\ioann\\anaconda3\\envs\\NLP\\lib\\site-packages\\IPython\\core\\interactiveshell.py:3170: DtypeWarning: Columns (22,42,45,46,47,48,49,52,53,56,57) have mixed types.Specify dtype option on import or set low_memory=False.\n",
      "  interactivity=interactivity, compiler=compiler, result=result)\n"
     ]
    },
    {
     "name": "stdout",
     "output_type": "stream",
     "text": [
      "Data loaded\n"
     ]
    }
   ],
   "source": [
    "# Load RAW data\n",
    "df = pd.read_csv('Data/_20220711-021643-GRE.txt', sep='\\t', encoding='utf-16')\n",
    "\n",
    "print('Data loaded')"
   ]
  },
  {
   "cell_type": "code",
   "execution_count": 88,
   "metadata": {},
   "outputs": [
    {
     "name": "stderr",
     "output_type": "stream",
     "text": [
      "100%|██████████| 90/90 [00:00<00:00, 140.17it/s]\n"
     ]
    }
   ],
   "source": [
    "values, types = [], []\n",
    "for column in tqdm(df.columns):\n",
    "    if ('ENG' in column): continue\n",
    "    data = df[column].tolist()\n",
    "\n",
    "    values += data\n",
    "    types += len(data)*[column]\n",
    "\n",
    "# Create DataFrame (value|type)\n",
    "df = pd.DataFrame({})\n",
    "df['value'] = values\n",
    "df['type'] = types"
   ]
  },
  {
   "attachments": {},
   "cell_type": "markdown",
   "metadata": {},
   "source": [
    "#### Preprocess"
   ]
  },
  {
   "cell_type": "code",
   "execution_count": 89,
   "metadata": {},
   "outputs": [],
   "source": [
    "CCVs = [\n",
    "'CCV:00002',\n",
    "'CCV:00003',\n",
    "# 'CCV:00004',\n",
    "'CCV:00005',\n",
    "'CCV:00008',\n",
    "# 'CCV:00011', Citizenship\n",
    "# 'CCV:00012', Nationality\n",
    "# 'CCV:00013', Sex\n",
    "# 'CCV:00014',\n",
    "'CCV:00022',\n",
    "'CCV:00023',\n",
    "# 'CCV:00025',\n",
    "'CCV:00026',\n",
    "'CCV:00028',\n",
    "'CCV:00029',\n",
    "'CCV:00030',\n",
    "'CCV:00034',\n",
    "# 'CCV:00035',\n",
    "# 'CCV:00036',\n",
    "# 'CCV:00038', Passport issuing country\n",
    "# 'CCV:00039', Passport issuing authority\n",
    "# 'CCV:00041',\n",
    "# 'CCV:00042',\n",
    "# 'CCV:00043',\n",
    "# 'CCV:00047',\n",
    "# 'CCV:00048',\n",
    "# 'CCV:00049',\n",
    "'CCV:00052',\n",
    "# 'CCV:00053',\n",
    "# 'CCV:00054',\n",
    "'CCV:00057',\n",
    "# 'CCV:00058',\n",
    "# 'CCV:00059',\n",
    "'CCV:00061',\n",
    "# 'CCV:00062',\n",
    "# 'CCV:00063',\n",
    "'CCV:00065',\n",
    "# 'CCV:00066',\n",
    "# 'CCV:00067',\n",
    "# 'CCV:00068', Tertiary school type: 'University', 'TechnicalSchool', 'PolytechnicSchool', 'MedicalSchool', 'TradeSchool'\n",
    "# 'CCV:00069',\n",
    "# 'CCV:00071',\n",
    "# 'CCV:00072',\n",
    "'CCV:00073',\n",
    "'CCV:00074',\n",
    "# 'CCV:00079',\n",
    "# 'CCV:00080', It is the same as CCV:00026\n",
    "# 'CCV:00081',\n",
    "# 'CCV:00082',\n",
    "# 'CCV:00083', Insurance status: 'Insured', 'Protected', 'Uninsured'\n",
    "# 'CCV:00084'\n",
    "]"
   ]
  },
  {
   "cell_type": "code",
   "execution_count": 90,
   "metadata": {},
   "outputs": [
    {
     "name": "stdout",
     "output_type": "stream",
     "text": [
      "Number of records:  296155\n"
     ]
    }
   ],
   "source": [
    "# Drop duplicates\n",
    "df = df.drop_duplicates()\n",
    "# Remove empty cells\n",
    "df = df[df['value'] != '-']\n",
    "# Select types\n",
    "df = df[df['type'].isin(CCVs)]\n",
    "# Convert CCV:00074-x to CCV:00074\n",
    "df['type'] = df['type'].apply(lambda x:'CCV:00074' if '00074' in x else x)\n",
    "# Reset index\n",
    "df = df.reset_index().drop(['index'], axis=1)\n",
    "print('Number of records: ', df.shape[0])"
   ]
  },
  {
   "cell_type": "code",
   "execution_count": 91,
   "metadata": {},
   "outputs": [],
   "source": [
    "# Manually remove records, which belong to two categories \n",
    "# for example:\n",
    "# Άγγελος ['CCV:00002' 'CCV:00003']\n",
    "# Ακριβή ['CCV:00002' 'CCV:00003']\n",
    "# Ανδρόνικος ['CCV:00002' 'CCV:00003']\n",
    "# Αντώνης ['CCV:00002' 'CCV:00003']\n",
    "# Αρχοντή ['CCV:00002' 'CCV:00003']\n",
    "# Ευκρατίδης ['CCV:00002' 'CCV:00003']\n",
    "# Θεσσαλονίκη ['CCV:00002' 'CCV:00023']\n",
    "# Κέρκυρα ['CCV:00002' 'CCV:00023']\n",
    "# Πλάτων ['CCV:00002' 'CCV:00003']\n",
    "# Πλειώνη ['CCV:00002' 'CCV:00003']\n",
    "# Σπάρτη ['CCV:00002' 'CCV:00023']\n",
    "\n",
    "df = df[ ~((df['value'] == 'Άγγελος') & (df['type'] == 'CCV:00003'))]\n",
    "df = df[ ~((df['value'] == 'Ακριβή') & (df['type'] == 'CCV:00003'))]\n",
    "df = df[ ~((df['value'] == 'Ανδρόνικος') & (df['type'] == 'CCV:00003'))]\n",
    "df = df[ ~((df['value'] == 'Αντώνης') & (df['type'] == 'CCV:00003'))]\n",
    "df = df[ ~((df['value'] == 'Αρχοντή') & (df['type'] == 'CCV:00003'))]\n",
    "df = df[ ~((df['value'] == 'Ευκρατίδης') & (df['type'] == 'CCV:00003'))]\n",
    "df = df[ ~((df['value'] == 'Θεσσαλονίκη') & (df['type'] == 'CCV:00002'))]\n",
    "df = df[ ~((df['value'] == 'Κέρκυρα') & (df['type'] == 'CCV:00002'))]\n",
    "df = df[ ~((df['value'] == 'Πλάτων') & (df['type'] == 'CCV:00003'))]\n",
    "df = df[ ~((df['value'] == 'Πλειώνη') & (df['type'] == 'CCV:00002'))]\n",
    "df = df[ ~((df['value'] == 'Σπάρτη') & (df['type'] == 'CCV:00002'))]"
   ]
  },
  {
   "attachments": {},
   "cell_type": "markdown",
   "metadata": {},
   "source": [
    "### Create input/output ndarrays"
   ]
  },
  {
   "cell_type": "code",
   "execution_count": 92,
   "metadata": {},
   "outputs": [
    {
     "data": {
      "application/vnd.jupyter.widget-view+json": {
       "model_id": "cdafb7f62f0c4b70afbed73e47b2cad2",
       "version_major": 2,
       "version_minor": 0
      },
      "text/plain": [
       "0it [00:00, ?it/s]"
      ]
     },
     "metadata": {},
     "output_type": "display_data"
    },
    {
     "data": {
      "application/vnd.jupyter.widget-view+json": {
       "model_id": "5c3980ef87444bc7a3fd69e133c5a7a7",
       "version_major": 2,
       "version_minor": 0
      },
      "text/plain": [
       "Progress:   0%|          | 0/296144 [00:00<?, ?it/s]"
      ]
     },
     "metadata": {},
     "output_type": "display_data"
    }
   ],
   "source": [
    "from tqdm.notebook import tqdm_notebook\n",
    "tqdm_notebook().pandas(desc=\"Progress\")\n",
    "\n",
    "\n",
    "nlp = spacy.load(\"el_core_news_sm\")\n",
    "\n",
    "X = np.array( df['value'].progress_apply(lambda x: list(nlp(x).vector)).to_list() )\n",
    "\n",
    "np.savez('Data/data.npz', X=X, y=df['type'].to_numpy())"
   ]
  }
 ],
 "metadata": {
  "kernelspec": {
   "display_name": "ML",
   "language": "python",
   "name": "python3"
  },
  "language_info": {
   "codemirror_mode": {
    "name": "ipython",
    "version": 3
   },
   "file_extension": ".py",
   "mimetype": "text/x-python",
   "name": "python",
   "nbconvert_exporter": "python",
   "pygments_lexer": "ipython3",
   "version": "3.7.10"
  },
  "orig_nbformat": 4
 },
 "nbformat": 4,
 "nbformat_minor": 2
}

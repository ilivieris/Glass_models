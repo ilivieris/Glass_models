{
 "cells": [
  {
   "cell_type": "code",
   "execution_count": 1,
   "metadata": {},
   "outputs": [],
   "source": [
    "import warnings\n",
    "warnings.filterwarnings(\"ignore\")\n",
    "\n",
    "\n",
    "from utils.hard_rules import hard_rules\n",
    "import pandas as pd\n",
    "import numpy as np\n",
    "from sklearn import metrics\n",
    "\n",
    "from tqdm import tqdm\n",
    "tqdm.pandas()"
   ]
  },
  {
   "cell_type": "code",
   "execution_count": 2,
   "metadata": {},
   "outputs": [],
   "source": [
    "# Import data\n",
    "df = pd.read_csv('Data/_20230622-052634_training.tsv', sep='\\t', header=None)\n",
    "\n",
    "# Rename columns\n",
    "df.rename(columns = {0: 'Value',\n",
    "                     1: 'Evidence_type',\n",
    "                     2: 'CCV'}, \n",
    "          inplace = True)\n",
    "\n",
    "# Remove ENG instances\n",
    "ENG_ccvs = [ccv for ccv in df['CCV'].unique() if 'ENG' in ccv]\n",
    "df = df[ ~df['CCV'].isin(ENG_ccvs) ]\n",
    "\n",
    "# Remove duplicates\n",
    "df.drop_duplicates(inplace=True)\n",
    "\n",
    "# Drop CCVs in which no prediction can be made\n",
    "dropped_CCVs = ['CCV:00004', 'CCV:00025', 'CCV:00035', 'CCV:00036', 'CCV:00042', 'CCV:00043',\n",
    "    'CCV:00047', 'CCV:00048', 'CCV:00049', 'CCV:00072', 'CCV:00084', 'CCV:00087', 'CCV:00088',\n",
    "    'CCV:00079', 'CCV:00082', 'CCV:00092', 'CCV:00093', 'CCV:00096']\n",
    "df = df[ ~df['CCV'].isin( dropped_CCVs )]\n",
    "\n",
    "# Reset index\n",
    "df = df.reset_index().drop('index', axis=1)"
   ]
  },
  {
   "attachments": {},
   "cell_type": "markdown",
   "metadata": {},
   "source": [
    "### Hard rule predictions"
   ]
  },
  {
   "cell_type": "code",
   "execution_count": 3,
   "metadata": {},
   "outputs": [
    {
     "name": "stderr",
     "output_type": "stream",
     "text": [
      "100%|██████████| 17998605/17998605 [20:10<00:00, 14864.23it/s]\n"
     ]
    }
   ],
   "source": [
    "df['Predictions'] = df[['Value','Evidence_type']].progress_apply(lambda x: hard_rules(x.Value, x.Evidence_type), axis=1)  \n",
    "\n",
    "# Keep hard-rule predictions\n",
    "df = df[ df['Predictions'].astype('str') != \"None\" ]\n"
   ]
  },
  {
   "cell_type": "code",
   "execution_count": 4,
   "metadata": {},
   "outputs": [],
   "source": [
    "Predictions = df['Predictions'].values\n",
    "Actuals = df['CCV'].values"
   ]
  },
  {
   "attachments": {},
   "cell_type": "markdown",
   "metadata": {},
   "source": [
    "### Model predictions"
   ]
  },
  {
   "cell_type": "code",
   "execution_count": 5,
   "metadata": {},
   "outputs": [
    {
     "name": "stdout",
     "output_type": "stream",
     "text": [
      "Accuracy: 96.437%\n",
      "Precision: 0.991\n",
      "Recall: 0.991\n"
     ]
    },
    {
     "data": {
      "text/plain": [
       "array([[  2048,      0,      0,      0,      0,      0,      0,      0],\n",
       "       [     0,  19422,     14,      2,      0,      0,      0,      0],\n",
       "       [     0,     11, 274050,  12057,      0,      0,      0,      0],\n",
       "       [     0,      9,   9523, 288390,      0,      0,      0,      0],\n",
       "       [     0,      0,      0,      0,    100,      0,      0,      0],\n",
       "       [     0,      0,      0,      0,      0,     15,      0,      0],\n",
       "       [     0,      0,      0,      0,      0,      0,    641,      0],\n",
       "       [     0,      0,      0,      0,      0,      0,      0,    335]],\n",
       "      dtype=int64)"
      ]
     },
     "execution_count": 5,
     "metadata": {},
     "output_type": "execute_result"
    }
   ],
   "source": [
    "import pickle\n",
    "\n",
    "X = np.load('Data/data.npz', allow_pickle=True)['X']\n",
    "y = np.load('Data/data.npz', allow_pickle=True)['y']\n",
    "\n",
    "# Load Label encoder\n",
    "encoder = pickle.load(open('Model/Label_encoder.pkl', 'rb'))\n",
    "# Load prediction model\n",
    "model = pickle.load(open('Model/model.pkl', 'rb'))\n",
    "# Get predictions\n",
    "pred = encoder.inverse_transform( model.predict(X) )\n",
    "\n",
    "\n",
    "# Model Evaluation\n",
    "Accuracy = 100*metrics.accuracy_score(y, pred)\n",
    "Recall = metrics.recall_score(y, pred, average='macro')\n",
    "Precision = metrics.precision_score(y, pred, average='macro')   \n",
    "CM = metrics.confusion_matrix(y, pred)\n",
    "\n",
    "print(f'Accuracy: {Accuracy:.3f}%')\n",
    "print(f'Precision: {Precision:.3f}')\n",
    "print(f'Recall: {Recall:.3f}')\n",
    "CM"
   ]
  },
  {
   "cell_type": "code",
   "execution_count": 6,
   "metadata": {},
   "outputs": [
    {
     "name": "stdout",
     "output_type": "stream",
     "text": [
      "              precision    recall  f1-score   support\n",
      "\n",
      "   CCV:00002       1.00      1.00      1.00      2048\n",
      "   CCV:00003       1.00      1.00      1.00     19438\n",
      "   CCV:00005       0.97      0.96      0.96    286118\n",
      "   CCV:00008       0.96      0.97      0.96    297922\n",
      "   CCV:00011       1.00      1.00      1.00       100\n",
      "   CCV:00030       1.00      1.00      1.00        15\n",
      "   CCV:00052       1.00      1.00      1.00       641\n",
      "   CCV:00065       1.00      1.00      1.00       335\n",
      "\n",
      "    accuracy                           0.96    606617\n",
      "   macro avg       0.99      0.99      0.99    606617\n",
      "weighted avg       0.96      0.96      0.96    606617\n",
      "\n"
     ]
    }
   ],
   "source": [
    "print( metrics.classification_report(y_true=y, y_pred=pred, target_names=np.unique(y)) )"
   ]
  },
  {
   "attachments": {},
   "cell_type": "markdown",
   "metadata": {},
   "source": [
    "### Evaluation"
   ]
  },
  {
   "cell_type": "code",
   "execution_count": 7,
   "metadata": {},
   "outputs": [],
   "source": [
    "Predictions = np.concatenate([Predictions, pred])\n",
    "Actuals = np.concatenate([Actuals, y])"
   ]
  },
  {
   "cell_type": "code",
   "execution_count": 8,
   "metadata": {},
   "outputs": [
    {
     "name": "stdout",
     "output_type": "stream",
     "text": [
      "Accuracy: 99.860%\n",
      "Precision: 0.998\n",
      "Recall: 0.998\n"
     ]
    }
   ],
   "source": [
    "Accuracy = 100*metrics.accuracy_score(Actuals, Predictions)\n",
    "Recall = metrics.recall_score(Actuals, Predictions, average='macro')\n",
    "Precision = metrics.precision_score(Actuals, Predictions, average='macro')   \n",
    "\n",
    "print(f'Accuracy: {Accuracy:.3f}%')\n",
    "print(f'Precision: {Precision:.3f}')\n",
    "print(f'Recall: {Recall:.3f}')"
   ]
  },
  {
   "cell_type": "code",
   "execution_count": 9,
   "metadata": {},
   "outputs": [
    {
     "data": {
      "text/plain": [
       "array([[  2048,      0,      0, ...,      0,      0,      0],\n",
       "       [     0,  19422,     14, ...,      0,      0,      0],\n",
       "       [     0,     11, 274050, ...,      0,      0,      0],\n",
       "       ...,\n",
       "       [     0,      0,      0, ..., 636004,      0,      0],\n",
       "       [     0,      0,      0, ...,      0, 636004,      0],\n",
       "       [     0,      0,      0, ...,      0,      0,    999]], dtype=int64)"
      ]
     },
     "execution_count": 9,
     "metadata": {},
     "output_type": "execute_result"
    }
   ],
   "source": [
    "CM = metrics.confusion_matrix(Actuals, Predictions)\n",
    "CM"
   ]
  },
  {
   "cell_type": "code",
   "execution_count": 10,
   "metadata": {},
   "outputs": [],
   "source": [
    "from utils.pretty_confusion_matrix import pp_matrix_from_data\n",
    "pp_matrix_from_data(CM=CM, \n",
    "                    cmap=\"Oranges\", \n",
    "                    figsize=(25, 25))\n"
   ]
  }
 ],
 "metadata": {
  "kernelspec": {
   "display_name": "NLP",
   "language": "python",
   "name": "python3"
  },
  "language_info": {
   "codemirror_mode": {
    "name": "ipython",
    "version": 3
   },
   "file_extension": ".py",
   "mimetype": "text/x-python",
   "name": "python",
   "nbconvert_exporter": "python",
   "pygments_lexer": "ipython3",
   "version": "3.8.16"
  },
  "orig_nbformat": 4
 },
 "nbformat": 4,
 "nbformat_minor": 2
}

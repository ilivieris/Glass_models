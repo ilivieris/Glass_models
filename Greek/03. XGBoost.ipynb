{
 "cells": [
  {
   "cell_type": "markdown",
   "metadata": {},
   "source": [
    "# Import libraries"
   ]
  },
  {
   "cell_type": "code",
   "execution_count": 1,
   "metadata": {},
   "outputs": [],
   "source": [
    "import warnings\n",
    "warnings.filterwarnings( 'ignore' )\n",
    "# Basic libraries\n",
    "import os\n",
    "import numpy    as np\n",
    "import pandas   as pd\n",
    "# Optuna library\n",
    "import optuna\n",
    "# XGBoost\n",
    "import xgboost\n",
    "# User libraries\n",
    "from utils.Logger import *\n",
    "from utils.utils import *\n",
    "from utils.mlflow_logging import MLflow_log_performance"
   ]
  },
  {
   "cell_type": "markdown",
   "metadata": {},
   "source": [
    "# Parameters"
   ]
  },
  {
   "cell_type": "code",
   "execution_count": 2,
   "metadata": {},
   "outputs": [],
   "source": [
    "# Number of Optuna trials \n",
    "n_trials = 20\n",
    "# Seed\n",
    "seed = 42 \n",
    "# Create logger\n",
    "VERBOSE = True \n",
    "# Number of splits for Stratified Cross-Validation\n",
    "n_splits = 5\n",
    "# Hold-out percentage\n",
    "test_size = 0.1\n",
    "\n",
    "# Create temp directory for storing output figures\n",
    "if not os.path.isdir('Performance'): os.mkdir('Performance')"
   ]
  },
  {
   "cell_type": "code",
   "execution_count": 3,
   "metadata": {},
   "outputs": [],
   "source": [
    "# Initiate logger\n",
    "if VERBOSE:\n",
    "    logger = init_logger(log_file = 'logs.log') "
   ]
  },
  {
   "attachments": {},
   "cell_type": "markdown",
   "metadata": {},
   "source": [
    "# Data"
   ]
  },
  {
   "cell_type": "code",
   "execution_count": 4,
   "metadata": {},
   "outputs": [
    {
     "data": {
      "image/png": "[encoded data removed]",
      "text/plain": [
       "<Figure size 640x480 with 1 Axes>"
      ]
     },
     "metadata": {},
     "output_type": "display_data"
    }
   ],
   "source": [
    "X = np.load('Data/data.npz', allow_pickle=True)['X']\n",
    "y = np.load('Data/data.npz', allow_pickle=True)['y']\n",
    "\n",
    "from sklearn.model_selection import train_test_split\n",
    "trainX, testX, trainY, testY = train_test_split(X, y, test_size=test_size, stratify=y, random_state=seed)\n",
    "\n",
    "import matplotlib.pyplot as plt\n",
    "plt.hist(trainY);\n",
    "plt.hist(testY);\n",
    "\n",
    "from sklearn.preprocessing import LabelEncoder\n",
    "le = LabelEncoder()\n",
    "trainY = le.fit_transform(trainY)\n",
    "testY = le.transform(testY)"
   ]
  },
  {
   "cell_type": "markdown",
   "metadata": {},
   "source": [
    "# Hyperparameter optimization"
   ]
  },
  {
   "cell_type": "code",
   "execution_count": 5,
   "metadata": {},
   "outputs": [],
   "source": [
    "# Initiate mlflow server\n",
    "# Command: mlflow server --backend-store-uri sqlite:///mlflow.db --default-artifact-root ./artifacts --host 127.0.0.1 --port 5000\n",
    "# \n",
    "import mlflow\n",
    "mlflow.set_tracking_uri(\"http://127.0.0.1:5000/\")\n",
    "mlflow.set_experiment(\"UC:GRE|Model:XGBoost\")\n",
    "\n",
    "if VERBOSE:\n",
    "    logger.info('MLFlow server is connected')"
   ]
  },
  {
   "attachments": {},
   "cell_type": "markdown",
   "metadata": {},
   "source": [
    "## Prediction model"
   ]
  },
  {
   "cell_type": "code",
   "execution_count": 8,
   "metadata": {},
   "outputs": [],
   "source": [
    "def objective(trial: optuna.trial.Trial) -> float: \n",
    "    # Logger\n",
    "    if VERBOSE:\n",
    "        logger.info(f'Trail: {trial.number} started [{trial.datetime_start}]')\n",
    "\n",
    "    # Parameters\n",
    "    params = {\n",
    "        'n_estimators'      : trial.suggest_categorical('n_estimators', [200, 500, 800]),\n",
    "        'learning_rate'     : trial.suggest_categorical('learning_rate' , [1e-2, 5e-2, 1e-1]),\n",
    "        'max_depth'         : trial.suggest_int('max_depth', 3, 5),\n",
    "        'reg_alpha'         : 20, #trial.suggest_categorical('reg_alpha', [10, 20, 30]),\n",
    "        'reg_lambda'        : 1.0, #trial.suggest_loguniform('reg_lambda', 0, 1),\n",
    "        'gamma'             : 1, #trial.suggest_loguniform('gamma', 1 , 9),\n",
    "        'min_child_weight'  : 2, #trial.suggest_int('min_child_weight', 2, 4),\n",
    "        'max_leaves'        : 2, #trial.suggest_int('max_leaves', 2, 5),\n",
    "    }\n",
    "\n",
    "\n",
    "    # Setup model\n",
    "    model = xgboost.XGBClassifier(objective           = 'multi:softmax',  \n",
    "                                    n_jobs              = -1,                                   \n",
    "                                    validate_parameters = True, \n",
    "                                    verbosity           = 1,\n",
    "                                    tree_method         = 'hist',\n",
    "                                    **params)\n",
    "    \n",
    "    # Cross-Validation\n",
    "    train_CV_results, test_CV_results, CM_cv = cross_validation(model=model, X=trainX, Y=trainY, n_splits=n_splits, seed=seed, VERBOSE=VERBOSE)\n",
    "\n",
    "    # Single-run \n",
    "    model, train_results, test_results, CM, predictions = single_run(model=model, trainX=trainX, trainY=trainY, testX=testX, testY=testY, VERBOSE=VERBOSE)\n",
    "\n",
    "         \n",
    "    if VERBOSE:\n",
    "        logger.info(f'Trail: {trial.number} completed')\n",
    "\n",
    "    # Include model signature\n",
    "    signature = mlflow.models.infer_signature(testX, predictions)\n",
    "    # Log performance to MLflow \n",
    "    MLflow_log_performance(trial.number, model, \n",
    "                           train_CV_results, test_CV_results, CM_cv, \n",
    "                           train_results, test_results, CM,\n",
    "                           signature, params)\n",
    "\n",
    "    \n",
    "    if VERBOSE:\n",
    "        logger.info(f'Trail: {trial.number} completed')\n",
    "\n",
    "\n",
    "    return np.mean(test_CV_results['AUC'])"
   ]
  },
  {
   "cell_type": "markdown",
   "metadata": {},
   "source": [
    "## Hyperparameter optimization process"
   ]
  },
  {
   "cell_type": "code",
   "execution_count": 9,
   "metadata": {},
   "outputs": [
    {
     "name": "stderr",
     "output_type": "stream",
     "text": [
      "\u001b[32m[I 2023-04-18 09:45:48,241]\u001b[0m A new study created in memory with name: no-name-0706554a-070a-463e-9f9e-5706d57315b6\u001b[0m\n"
     ]
    },
    {
     "name": "stdout",
     "output_type": "stream",
     "text": [
      "[0]\tvalidation_0-auc:0.73944\tvalidation_1-auc:0.73850\n",
      "[1]\tvalidation_0-auc:0.73944\tvalidation_1-auc:0.73850\n",
      "[2]\tvalidation_0-auc:0.73944\tvalidation_1-auc:0.73850\n",
      "[3]\tvalidation_0-auc:0.73996\tvalidation_1-auc:0.73890\n",
      "[4]\tvalidation_0-auc:0.74011\tvalidation_1-auc:0.73912\n",
      "[5]\tvalidation_0-auc:0.74021\tvalidation_1-auc:0.73927\n",
      "[6]\tvalidation_0-auc:0.73979\tvalidation_1-auc:0.73870\n",
      "[7]\tvalidation_0-auc:0.73976\tvalidation_1-auc:0.73867\n",
      "[8]\tvalidation_0-auc:0.73986\tvalidation_1-auc:0.73884\n",
      "[9]\tvalidation_0-auc:0.74011\tvalidation_1-auc:0.73908\n",
      "[10]\tvalidation_0-auc:0.74014\tvalidation_1-auc:0.73904\n",
      "[11]\tvalidation_0-auc:0.74096\tvalidation_1-auc:0.73996\n",
      "[12]\tvalidation_0-auc:0.74144\tvalidation_1-auc:0.74043\n",
      "[13]\tvalidation_0-auc:0.74170\tvalidation_1-auc:0.74072\n",
      "[14]\tvalidation_0-auc:0.74223\tvalidation_1-auc:0.74128\n",
      "[15]\tvalidation_0-auc:0.74273\tvalidation_1-auc:0.74168\n",
      "[16]\tvalidation_0-auc:0.74241\tvalidation_1-auc:0.74147\n",
      "[17]\tvalidation_0-auc:0.74314\tvalidation_1-auc:0.74224\n",
      "[18]\tvalidation_0-auc:0.74323\tvalidation_1-auc:0.74233\n",
      "[19]\tvalidation_0-auc:0.74368\tvalidation_1-auc:0.74279\n",
      "[20]\tvalidation_0-auc:0.74442\tvalidation_1-auc:0.74333\n",
      "[21]\tvalidation_0-auc:0.74424\tvalidation_1-auc:0.74322\n",
      "[22]\tvalidation_0-auc:0.74489\tvalidation_1-auc:0.74396\n",
      "[23]\tvalidation_0-auc:0.74479\tvalidation_1-auc:0.74373\n",
      "[24]\tvalidation_0-auc:0.74570\tvalidation_1-auc:0.74459\n",
      "[25]\tvalidation_0-auc:0.74579\tvalidation_1-auc:0.74483\n",
      "[26]\tvalidation_0-auc:0.74566\tvalidation_1-auc:0.74461\n",
      "[27]\tvalidation_0-auc:0.74586\tvalidation_1-auc:0.74479\n",
      "[28]\tvalidation_0-auc:0.74604\tvalidation_1-auc:0.74511\n",
      "[29]\tvalidation_0-auc:0.74967\tvalidation_1-auc:0.74867\n",
      "[30]\tvalidation_0-auc:0.74937\tvalidation_1-auc:0.74845\n",
      "[31]\tvalidation_0-auc:0.74958\tvalidation_1-auc:0.74867\n",
      "[32]\tvalidation_0-auc:0.75013\tvalidation_1-auc:0.74911\n",
      "[33]\tvalidation_0-auc:0.75054\tvalidation_1-auc:0.74959\n",
      "[34]\tvalidation_0-auc:0.75061\tvalidation_1-auc:0.74960\n",
      "[35]\tvalidation_0-auc:0.75209\tvalidation_1-auc:0.75101\n",
      "[36]\tvalidation_0-auc:0.75286\tvalidation_1-auc:0.75160\n",
      "[37]\tvalidation_0-auc:0.75311\tvalidation_1-auc:0.75182\n",
      "[38]\tvalidation_0-auc:0.75386\tvalidation_1-auc:0.75241\n",
      "[39]\tvalidation_0-auc:0.75510\tvalidation_1-auc:0.75377\n",
      "[40]\tvalidation_0-auc:0.75552\tvalidation_1-auc:0.75412\n",
      "[41]\tvalidation_0-auc:0.76171\tvalidation_1-auc:0.76006\n",
      "[42]\tvalidation_0-auc:0.76197\tvalidation_1-auc:0.76030\n",
      "[43]\tvalidation_0-auc:0.76630\tvalidation_1-auc:0.76449\n",
      "[44]\tvalidation_0-auc:0.76705\tvalidation_1-auc:0.76516\n",
      "[45]\tvalidation_0-auc:0.77084\tvalidation_1-auc:0.76888\n",
      "[46]\tvalidation_0-auc:0.77073\tvalidation_1-auc:0.76878\n",
      "[47]\tvalidation_0-auc:0.77441\tvalidation_1-auc:0.77245\n",
      "[48]\tvalidation_0-auc:0.77448\tvalidation_1-auc:0.77255\n",
      "[49]\tvalidation_0-auc:0.77718\tvalidation_1-auc:0.77515\n",
      "[50]\tvalidation_0-auc:0.77724\tvalidation_1-auc:0.77521\n",
      "[51]\tvalidation_0-auc:0.77927\tvalidation_1-auc:0.77723\n",
      "[52]\tvalidation_0-auc:0.77955\tvalidation_1-auc:0.77757\n",
      "[53]\tvalidation_0-auc:0.78152\tvalidation_1-auc:0.77954\n",
      "[54]\tvalidation_0-auc:0.78103\tvalidation_1-auc:0.77906\n",
      "[55]\tvalidation_0-auc:0.78297\tvalidation_1-auc:0.78090\n",
      "[56]\tvalidation_0-auc:0.78298\tvalidation_1-auc:0.78087\n",
      "[57]\tvalidation_0-auc:0.78440\tvalidation_1-auc:0.78225\n",
      "[58]\tvalidation_0-auc:0.78473\tvalidation_1-auc:0.78268\n",
      "[59]\tvalidation_0-auc:0.78610\tvalidation_1-auc:0.78408\n",
      "[60]\tvalidation_0-auc:0.78802\tvalidation_1-auc:0.78599\n",
      "[61]\tvalidation_0-auc:0.78763\tvalidation_1-auc:0.78551\n",
      "[62]\tvalidation_0-auc:0.78897\tvalidation_1-auc:0.78690\n",
      "[63]\tvalidation_0-auc:0.79034\tvalidation_1-auc:0.78820\n",
      "[64]\tvalidation_0-auc:0.79036\tvalidation_1-auc:0.78823\n",
      "[65]\tvalidation_0-auc:0.79160\tvalidation_1-auc:0.78945\n",
      "[66]\tvalidation_0-auc:0.79287\tvalidation_1-auc:0.79072\n",
      "[67]\tvalidation_0-auc:0.79250\tvalidation_1-auc:0.79026\n",
      "[68]\tvalidation_0-auc:0.79354\tvalidation_1-auc:0.79138\n",
      "[69]\tvalidation_0-auc:0.79460\tvalidation_1-auc:0.79240\n",
      "[70]\tvalidation_0-auc:0.79453\tvalidation_1-auc:0.79236\n",
      "[71]\tvalidation_0-auc:0.79507\tvalidation_1-auc:0.79288\n",
      "[72]\tvalidation_0-auc:0.79628\tvalidation_1-auc:0.79410\n",
      "[73]\tvalidation_0-auc:0.79611\tvalidation_1-auc:0.79388\n",
      "[74]\tvalidation_0-auc:0.79692\tvalidation_1-auc:0.79472\n",
      "[75]\tvalidation_0-auc:0.79751\tvalidation_1-auc:0.79525\n",
      "[76]\tvalidation_0-auc:0.79775\tvalidation_1-auc:0.79553\n",
      "[77]\tvalidation_0-auc:0.79832\tvalidation_1-auc:0.79605\n",
      "[78]\tvalidation_0-auc:0.79893\tvalidation_1-auc:0.79662\n",
      "[79]\tvalidation_0-auc:0.79905\tvalidation_1-auc:0.79676\n",
      "[80]\tvalidation_0-auc:0.79943\tvalidation_1-auc:0.79707\n",
      "[81]\tvalidation_0-auc:0.80015\tvalidation_1-auc:0.79784\n",
      "[82]\tvalidation_0-auc:0.80011\tvalidation_1-auc:0.79777\n",
      "[83]\tvalidation_0-auc:0.80074\tvalidation_1-auc:0.79839\n",
      "[84]\tvalidation_0-auc:0.80241\tvalidation_1-auc:0.80008\n",
      "[85]\tvalidation_0-auc:0.80212\tvalidation_1-auc:0.79978\n",
      "[86]\tvalidation_0-auc:0.80283\tvalidation_1-auc:0.80049\n",
      "[87]\tvalidation_0-auc:0.80315\tvalidation_1-auc:0.80079\n",
      "[88]\tvalidation_0-auc:0.80394\tvalidation_1-auc:0.80159\n",
      "[89]\tvalidation_0-auc:0.80465\tvalidation_1-auc:0.80233\n",
      "[90]\tvalidation_0-auc:0.80514\tvalidation_1-auc:0.80276\n",
      "[91]\tvalidation_0-auc:0.80523\tvalidation_1-auc:0.80284\n",
      "[92]\tvalidation_0-auc:0.80636\tvalidation_1-auc:0.80402\n",
      "[93]\tvalidation_0-auc:0.80687\tvalidation_1-auc:0.80451\n",
      "[94]\tvalidation_0-auc:0.80720\tvalidation_1-auc:0.80485\n",
      "[95]\tvalidation_0-auc:0.80797\tvalidation_1-auc:0.80567\n",
      "[96]\tvalidation_0-auc:0.80837\tvalidation_1-auc:0.80605\n",
      "[97]\tvalidation_0-auc:0.80866\tvalidation_1-auc:0.80639\n",
      "[98]\tvalidation_0-auc:0.80916\tvalidation_1-auc:0.80680\n",
      "[99]\tvalidation_0-auc:0.80916\tvalidation_1-auc:0.80682\n",
      "[100]\tvalidation_0-auc:0.81027\tvalidation_1-auc:0.80796\n",
      "[101]\tvalidation_0-auc:0.81034\tvalidation_1-auc:0.80802\n",
      "[102]\tvalidation_0-auc:0.81077\tvalidation_1-auc:0.80843\n",
      "[103]\tvalidation_0-auc:0.81143\tvalidation_1-auc:0.80917\n",
      "[104]\tvalidation_0-auc:0.81188\tvalidation_1-auc:0.80956\n",
      "[105]\tvalidation_0-auc:0.81231\tvalidation_1-auc:0.81004\n",
      "[106]\tvalidation_0-auc:0.81266\tvalidation_1-auc:0.81038\n",
      "[107]\tvalidation_0-auc:0.81268\tvalidation_1-auc:0.81036\n",
      "[108]\tvalidation_0-auc:0.81368\tvalidation_1-auc:0.81141\n",
      "[109]\tvalidation_0-auc:0.81398\tvalidation_1-auc:0.81169\n",
      "[110]\tvalidation_0-auc:0.81411\tvalidation_1-auc:0.81181\n",
      "[111]\tvalidation_0-auc:0.81478\tvalidation_1-auc:0.81255\n",
      "[112]\tvalidation_0-auc:0.81508\tvalidation_1-auc:0.81283\n",
      "[113]\tvalidation_0-auc:0.81536\tvalidation_1-auc:0.81312\n",
      "[114]\tvalidation_0-auc:0.81598\tvalidation_1-auc:0.81377\n",
      "[115]\tvalidation_0-auc:0.81630\tvalidation_1-auc:0.81410\n",
      "[116]\tvalidation_0-auc:0.81650\tvalidation_1-auc:0.81429\n",
      "[117]\tvalidation_0-auc:0.81689\tvalidation_1-auc:0.81470\n",
      "[118]\tvalidation_0-auc:0.81689\tvalidation_1-auc:0.81467\n",
      "[119]\tvalidation_0-auc:0.81789\tvalidation_1-auc:0.81569\n",
      "[120]\tvalidation_0-auc:0.81819\tvalidation_1-auc:0.81598\n",
      "[121]\tvalidation_0-auc:0.81847\tvalidation_1-auc:0.81625\n",
      "[122]\tvalidation_0-auc:0.81962\tvalidation_1-auc:0.81741\n",
      "[123]\tvalidation_0-auc:0.82050\tvalidation_1-auc:0.81832\n",
      "[124]\tvalidation_0-auc:0.82075\tvalidation_1-auc:0.81860\n",
      "[125]\tvalidation_0-auc:0.82100\tvalidation_1-auc:0.81883\n",
      "[126]\tvalidation_0-auc:0.82100\tvalidation_1-auc:0.81883\n",
      "[127]\tvalidation_0-auc:0.82176\tvalidation_1-auc:0.81961\n",
      "[128]\tvalidation_0-auc:0.82328\tvalidation_1-auc:0.82113\n",
      "[129]\tvalidation_0-auc:0.82351\tvalidation_1-auc:0.82135\n",
      "[130]\tvalidation_0-auc:0.82346\tvalidation_1-auc:0.82130\n",
      "[131]\tvalidation_0-auc:0.82458\tvalidation_1-auc:0.82240\n",
      "[132]\tvalidation_0-auc:0.82597\tvalidation_1-auc:0.82378\n",
      "[133]\tvalidation_0-auc:0.82607\tvalidation_1-auc:0.82386\n",
      "[134]\tvalidation_0-auc:0.82653\tvalidation_1-auc:0.82437\n",
      "[135]\tvalidation_0-auc:0.82680\tvalidation_1-auc:0.82464\n",
      "[136]\tvalidation_0-auc:0.82693\tvalidation_1-auc:0.82475\n",
      "[137]\tvalidation_0-auc:0.82737\tvalidation_1-auc:0.82519\n",
      "[138]\tvalidation_0-auc:0.82841\tvalidation_1-auc:0.82625\n",
      "[139]\tvalidation_0-auc:0.82905\tvalidation_1-auc:0.82693\n",
      "[140]\tvalidation_0-auc:0.82986\tvalidation_1-auc:0.82774\n",
      "[141]\tvalidation_0-auc:0.83021\tvalidation_1-auc:0.82806\n",
      "[142]\tvalidation_0-auc:0.83021\tvalidation_1-auc:0.82806\n",
      "[143]\tvalidation_0-auc:0.83086\tvalidation_1-auc:0.82867\n",
      "[144]\tvalidation_0-auc:0.83200\tvalidation_1-auc:0.82982\n",
      "[145]\tvalidation_0-auc:0.83235\tvalidation_1-auc:0.83016\n",
      "[146]\tvalidation_0-auc:0.83235\tvalidation_1-auc:0.83013\n",
      "[147]\tvalidation_0-auc:0.83281\tvalidation_1-auc:0.83063\n",
      "[148]\tvalidation_0-auc:0.83304\tvalidation_1-auc:0.83084\n",
      "[149]\tvalidation_0-auc:0.83331\tvalidation_1-auc:0.83111\n",
      "[150]\tvalidation_0-auc:0.83423\tvalidation_1-auc:0.83205\n",
      "[151]\tvalidation_0-auc:0.83443\tvalidation_1-auc:0.83223\n",
      "[152]\tvalidation_0-auc:0.83526\tvalidation_1-auc:0.83306\n",
      "[153]\tvalidation_0-auc:0.83544\tvalidation_1-auc:0.83326\n",
      "[154]\tvalidation_0-auc:0.83610\tvalidation_1-auc:0.83393\n",
      "[155]\tvalidation_0-auc:0.83598\tvalidation_1-auc:0.83378\n",
      "[156]\tvalidation_0-auc:0.83711\tvalidation_1-auc:0.83491\n",
      "[157]\tvalidation_0-auc:0.83726\tvalidation_1-auc:0.83508\n",
      "[158]\tvalidation_0-auc:0.83797\tvalidation_1-auc:0.83574\n",
      "[159]\tvalidation_0-auc:0.83783\tvalidation_1-auc:0.83558\n",
      "[160]\tvalidation_0-auc:0.83840\tvalidation_1-auc:0.83618\n",
      "[161]\tvalidation_0-auc:0.83850\tvalidation_1-auc:0.83630\n",
      "[162]\tvalidation_0-auc:0.83965\tvalidation_1-auc:0.83744\n",
      "[163]\tvalidation_0-auc:0.84019\tvalidation_1-auc:0.83799\n",
      "[164]\tvalidation_0-auc:0.84043\tvalidation_1-auc:0.83820\n",
      "[165]\tvalidation_0-auc:0.84045\tvalidation_1-auc:0.83824\n",
      "[166]\tvalidation_0-auc:0.84096\tvalidation_1-auc:0.83872\n",
      "[167]\tvalidation_0-auc:0.84167\tvalidation_1-auc:0.83943\n",
      "[168]\tvalidation_0-auc:0.84221\tvalidation_1-auc:0.84000\n",
      "[169]\tvalidation_0-auc:0.84222\tvalidation_1-auc:0.84001\n",
      "[170]\tvalidation_0-auc:0.84252\tvalidation_1-auc:0.84028\n",
      "[171]\tvalidation_0-auc:0.84266\tvalidation_1-auc:0.84039\n",
      "[172]\tvalidation_0-auc:0.84341\tvalidation_1-auc:0.84114\n",
      "[173]\tvalidation_0-auc:0.84352\tvalidation_1-auc:0.84125\n",
      "[174]\tvalidation_0-auc:0.84379\tvalidation_1-auc:0.84152\n",
      "[175]\tvalidation_0-auc:0.84449\tvalidation_1-auc:0.84223\n",
      "[176]\tvalidation_0-auc:0.84494\tvalidation_1-auc:0.84269\n",
      "[177]\tvalidation_0-auc:0.84504\tvalidation_1-auc:0.84281\n",
      "[178]\tvalidation_0-auc:0.84490\tvalidation_1-auc:0.84265\n",
      "[179]\tvalidation_0-auc:0.84546\tvalidation_1-auc:0.84322\n",
      "[180]\tvalidation_0-auc:0.84635\tvalidation_1-auc:0.84411\n",
      "[181]\tvalidation_0-auc:0.84669\tvalidation_1-auc:0.84444\n",
      "[182]\tvalidation_0-auc:0.84658\tvalidation_1-auc:0.84433\n",
      "[183]\tvalidation_0-auc:0.84712\tvalidation_1-auc:0.84489\n",
      "[184]\tvalidation_0-auc:0.84771\tvalidation_1-auc:0.84547\n",
      "[185]\tvalidation_0-auc:0.84777\tvalidation_1-auc:0.84550\n",
      "[186]\tvalidation_0-auc:0.84849\tvalidation_1-auc:0.84624\n",
      "[187]\tvalidation_0-auc:0.84831\tvalidation_1-auc:0.84607\n",
      "[188]\tvalidation_0-auc:0.84911\tvalidation_1-auc:0.84686\n",
      "[189]\tvalidation_0-auc:0.84925\tvalidation_1-auc:0.84698\n",
      "[190]\tvalidation_0-auc:0.84969\tvalidation_1-auc:0.84743\n",
      "[191]\tvalidation_0-auc:0.85031\tvalidation_1-auc:0.84805\n",
      "[192]\tvalidation_0-auc:0.85062\tvalidation_1-auc:0.84834\n",
      "[193]\tvalidation_0-auc:0.85068\tvalidation_1-auc:0.84843\n",
      "[194]\tvalidation_0-auc:0.85047\tvalidation_1-auc:0.84819\n",
      "[195]\tvalidation_0-auc:0.85098\tvalidation_1-auc:0.84871\n",
      "[196]\tvalidation_0-auc:0.85137\tvalidation_1-auc:0.84912\n",
      "[197]\tvalidation_0-auc:0.85146\tvalidation_1-auc:0.84918\n",
      "[198]\tvalidation_0-auc:0.85149\tvalidation_1-auc:0.84923\n",
      "[199]\tvalidation_0-auc:0.85207\tvalidation_1-auc:0.84983\n",
      "[0]\tvalidation_0-auc:0.74184\tvalidation_1-auc:0.73701\n",
      "[1]\tvalidation_0-auc:0.74267\tvalidation_1-auc:0.73766\n",
      "[2]\tvalidation_0-auc:0.74303\tvalidation_1-auc:0.73809\n",
      "[3]\tvalidation_0-auc:0.74297\tvalidation_1-auc:0.73803\n",
      "[4]\tvalidation_0-auc:0.74303\tvalidation_1-auc:0.73810\n",
      "[5]\tvalidation_0-auc:0.74303\tvalidation_1-auc:0.73810\n",
      "[6]\tvalidation_0-auc:0.74298\tvalidation_1-auc:0.73805\n",
      "[7]\tvalidation_0-auc:0.74297\tvalidation_1-auc:0.73803\n",
      "[8]\tvalidation_0-auc:0.74379\tvalidation_1-auc:0.73876\n",
      "[9]\tvalidation_0-auc:0.74368\tvalidation_1-auc:0.73852\n",
      "[10]\tvalidation_0-auc:0.74352\tvalidation_1-auc:0.73841\n",
      "[11]\tvalidation_0-auc:0.74374\tvalidation_1-auc:0.73850\n",
      "[12]\tvalidation_0-auc:0.74374\tvalidation_1-auc:0.73856\n",
      "[13]\tvalidation_0-auc:0.74418\tvalidation_1-auc:0.73891\n",
      "[14]\tvalidation_0-auc:0.74447\tvalidation_1-auc:0.73930\n",
      "[15]\tvalidation_0-auc:0.74655\tvalidation_1-auc:0.74130\n",
      "[16]\tvalidation_0-auc:0.74666\tvalidation_1-auc:0.74146\n",
      "[17]\tvalidation_0-auc:0.74681\tvalidation_1-auc:0.74156\n",
      "[18]\tvalidation_0-auc:0.74849\tvalidation_1-auc:0.74368\n",
      "[19]\tvalidation_0-auc:0.74875\tvalidation_1-auc:0.74398\n",
      "[20]\tvalidation_0-auc:0.74867\tvalidation_1-auc:0.74390\n",
      "[21]\tvalidation_0-auc:0.74934\tvalidation_1-auc:0.74447\n"
     ]
    },
    {
     "name": "stderr",
     "output_type": "stream",
     "text": [
      "\u001b[33m[W 2023-04-18 09:46:13,801]\u001b[0m Trial 0 failed with parameters: {'n_estimators': 200, 'learning_rate': 0.01, 'max_depth': 3} because of the following error: KeyboardInterrupt().\n",
      "Traceback (most recent call last):\n",
      "  File \"c:\\Users\\ioann\\anaconda3\\envs\\ML\\lib\\site-packages\\optuna\\study\\_optimize.py\", line 200, in _run_trial\n",
      "    value_or_values = func(trial)\n",
      "  File \"C:\\Users\\ioann\\AppData\\Local\\Temp\\ipykernel_15324\\1704379886.py\", line 28, in objective\n",
      "    train_CV_results, test_CV_results, CM_cv = cross_validation(model=model, X=trainX, Y=trainY, n_splits=n_splits, seed=seed, VERBOSE=VERBOSE)\n",
      "  File \"c:\\Users\\ioann\\Repositories\\Glass_models\\Greek\\utils\\utils.py\", line 55, in cross_validation\n",
      "    model.fit(X[train], Y[train],\n",
      "  File \"c:\\Users\\ioann\\anaconda3\\envs\\ML\\lib\\site-packages\\xgboost\\core.py\", line 620, in inner_f\n",
      "    return func(**kwargs)\n",
      "  File \"c:\\Users\\ioann\\anaconda3\\envs\\ML\\lib\\site-packages\\xgboost\\sklearn.py\", line 1490, in fit\n",
      "    self._Booster = train(\n",
      "  File \"c:\\Users\\ioann\\anaconda3\\envs\\ML\\lib\\site-packages\\xgboost\\core.py\", line 620, in inner_f\n",
      "    return func(**kwargs)\n",
      "  File \"c:\\Users\\ioann\\anaconda3\\envs\\ML\\lib\\site-packages\\xgboost\\training.py\", line 186, in train\n",
      "    if cb_container.after_iteration(bst, i, dtrain, evals):\n",
      "  File \"c:\\Users\\ioann\\anaconda3\\envs\\ML\\lib\\site-packages\\xgboost\\callback.py\", line 240, in after_iteration\n",
      "    score: str = model.eval_set(evals, epoch, self.metric, self._output_margin)\n",
      "  File \"c:\\Users\\ioann\\anaconda3\\envs\\ML\\lib\\site-packages\\xgboost\\core.py\", line 1989, in eval_set\n",
      "    _LIB.XGBoosterEvalOneIter(\n",
      "KeyboardInterrupt\u001b[0m\n",
      "\u001b[33m[W 2023-04-18 09:46:13,803]\u001b[0m Trial 0 failed with value None.\u001b[0m\n"
     ]
    },
    {
     "ename": "KeyboardInterrupt",
     "evalue": "",
     "output_type": "error",
     "traceback": [
      "\u001b[1;31m---------------------------------------------------------------------------\u001b[0m",
      "\u001b[1;31mKeyboardInterrupt\u001b[0m                         Traceback (most recent call last)",
      "Cell \u001b[1;32mIn[9], line 5\u001b[0m\n\u001b[0;32m      1\u001b[0m study \u001b[39m=\u001b[39m optuna\u001b[39m.\u001b[39mcreate_study(direction\u001b[39m=\u001b[39m\u001b[39m'\u001b[39m\u001b[39mmaximize\u001b[39m\u001b[39m'\u001b[39m,\n\u001b[0;32m      2\u001b[0m                             sampler\u001b[39m=\u001b[39moptuna\u001b[39m.\u001b[39msamplers\u001b[39m.\u001b[39mTPESampler(seed \u001b[39m=\u001b[39m seed),\n\u001b[0;32m      3\u001b[0m                            )\n\u001b[1;32m----> 5\u001b[0m study\u001b[39m.\u001b[39;49moptimize(func\u001b[39m=\u001b[39;49mobjective, \n\u001b[0;32m      6\u001b[0m                n_trials\u001b[39m=\u001b[39;49mn_trials, \n\u001b[0;32m      7\u001b[0m                n_jobs\u001b[39m=\u001b[39;49m\u001b[39m1\u001b[39;49m,)\n",
      "File \u001b[1;32mc:\\Users\\ioann\\anaconda3\\envs\\ML\\lib\\site-packages\\optuna\\study\\study.py:425\u001b[0m, in \u001b[0;36mStudy.optimize\u001b[1;34m(self, func, n_trials, timeout, n_jobs, catch, callbacks, gc_after_trial, show_progress_bar)\u001b[0m\n\u001b[0;32m    321\u001b[0m \u001b[39mdef\u001b[39;00m \u001b[39moptimize\u001b[39m(\n\u001b[0;32m    322\u001b[0m     \u001b[39mself\u001b[39m,\n\u001b[0;32m    323\u001b[0m     func: ObjectiveFuncType,\n\u001b[1;32m   (...)\u001b[0m\n\u001b[0;32m    330\u001b[0m     show_progress_bar: \u001b[39mbool\u001b[39m \u001b[39m=\u001b[39m \u001b[39mFalse\u001b[39;00m,\n\u001b[0;32m    331\u001b[0m ) \u001b[39m-\u001b[39m\u001b[39m>\u001b[39m \u001b[39mNone\u001b[39;00m:\n\u001b[0;32m    332\u001b[0m     \u001b[39m\"\"\"Optimize an objective function.\u001b[39;00m\n\u001b[0;32m    333\u001b[0m \n\u001b[0;32m    334\u001b[0m \u001b[39m    Optimization is done by choosing a suitable set of hyperparameter values from a given\u001b[39;00m\n\u001b[1;32m   (...)\u001b[0m\n\u001b[0;32m    422\u001b[0m \u001b[39m            If nested invocation of this method occurs.\u001b[39;00m\n\u001b[0;32m    423\u001b[0m \u001b[39m    \"\"\"\u001b[39;00m\n\u001b[1;32m--> 425\u001b[0m     _optimize(\n\u001b[0;32m    426\u001b[0m         study\u001b[39m=\u001b[39;49m\u001b[39mself\u001b[39;49m,\n\u001b[0;32m    427\u001b[0m         func\u001b[39m=\u001b[39;49mfunc,\n\u001b[0;32m    428\u001b[0m         n_trials\u001b[39m=\u001b[39;49mn_trials,\n\u001b[0;32m    429\u001b[0m         timeout\u001b[39m=\u001b[39;49mtimeout,\n\u001b[0;32m    430\u001b[0m         n_jobs\u001b[39m=\u001b[39;49mn_jobs,\n\u001b[0;32m    431\u001b[0m         catch\u001b[39m=\u001b[39;49m\u001b[39mtuple\u001b[39;49m(catch) \u001b[39mif\u001b[39;49;00m \u001b[39misinstance\u001b[39;49m(catch, Iterable) \u001b[39melse\u001b[39;49;00m (catch,),\n\u001b[0;32m    432\u001b[0m         callbacks\u001b[39m=\u001b[39;49mcallbacks,\n\u001b[0;32m    433\u001b[0m         gc_after_trial\u001b[39m=\u001b[39;49mgc_after_trial,\n\u001b[0;32m    434\u001b[0m         show_progress_bar\u001b[39m=\u001b[39;49mshow_progress_bar,\n\u001b[0;32m    435\u001b[0m     )\n",
      "File \u001b[1;32mc:\\Users\\ioann\\anaconda3\\envs\\ML\\lib\\site-packages\\optuna\\study\\_optimize.py:66\u001b[0m, in \u001b[0;36m_optimize\u001b[1;34m(study, func, n_trials, timeout, n_jobs, catch, callbacks, gc_after_trial, show_progress_bar)\u001b[0m\n\u001b[0;32m     64\u001b[0m \u001b[39mtry\u001b[39;00m:\n\u001b[0;32m     65\u001b[0m     \u001b[39mif\u001b[39;00m n_jobs \u001b[39m==\u001b[39m \u001b[39m1\u001b[39m:\n\u001b[1;32m---> 66\u001b[0m         _optimize_sequential(\n\u001b[0;32m     67\u001b[0m             study,\n\u001b[0;32m     68\u001b[0m             func,\n\u001b[0;32m     69\u001b[0m             n_trials,\n\u001b[0;32m     70\u001b[0m             timeout,\n\u001b[0;32m     71\u001b[0m             catch,\n\u001b[0;32m     72\u001b[0m             callbacks,\n\u001b[0;32m     73\u001b[0m             gc_after_trial,\n\u001b[0;32m     74\u001b[0m             reseed_sampler_rng\u001b[39m=\u001b[39;49m\u001b[39mFalse\u001b[39;49;00m,\n\u001b[0;32m     75\u001b[0m             time_start\u001b[39m=\u001b[39;49m\u001b[39mNone\u001b[39;49;00m,\n\u001b[0;32m     76\u001b[0m             progress_bar\u001b[39m=\u001b[39;49mprogress_bar,\n\u001b[0;32m     77\u001b[0m         )\n\u001b[0;32m     78\u001b[0m     \u001b[39melse\u001b[39;00m:\n\u001b[0;32m     79\u001b[0m         \u001b[39mif\u001b[39;00m n_jobs \u001b[39m==\u001b[39m \u001b[39m-\u001b[39m\u001b[39m1\u001b[39m:\n",
      "File \u001b[1;32mc:\\Users\\ioann\\anaconda3\\envs\\ML\\lib\\site-packages\\optuna\\study\\_optimize.py:163\u001b[0m, in \u001b[0;36m_optimize_sequential\u001b[1;34m(study, func, n_trials, timeout, catch, callbacks, gc_after_trial, reseed_sampler_rng, time_start, progress_bar)\u001b[0m\n\u001b[0;32m    160\u001b[0m         \u001b[39mbreak\u001b[39;00m\n\u001b[0;32m    162\u001b[0m \u001b[39mtry\u001b[39;00m:\n\u001b[1;32m--> 163\u001b[0m     frozen_trial \u001b[39m=\u001b[39m _run_trial(study, func, catch)\n\u001b[0;32m    164\u001b[0m \u001b[39mfinally\u001b[39;00m:\n\u001b[0;32m    165\u001b[0m     \u001b[39m# The following line mitigates memory problems that can be occurred in some\u001b[39;00m\n\u001b[0;32m    166\u001b[0m     \u001b[39m# environments (e.g., services that use computing containers such as GitHub Actions).\u001b[39;00m\n\u001b[0;32m    167\u001b[0m     \u001b[39m# Please refer to the following PR for further details:\u001b[39;00m\n\u001b[0;32m    168\u001b[0m     \u001b[39m# https://github.com/optuna/optuna/pull/325.\u001b[39;00m\n\u001b[0;32m    169\u001b[0m     \u001b[39mif\u001b[39;00m gc_after_trial:\n",
      "File \u001b[1;32mc:\\Users\\ioann\\anaconda3\\envs\\ML\\lib\\site-packages\\optuna\\study\\_optimize.py:251\u001b[0m, in \u001b[0;36m_run_trial\u001b[1;34m(study, func, catch)\u001b[0m\n\u001b[0;32m    244\u001b[0m         \u001b[39massert\u001b[39;00m \u001b[39mFalse\u001b[39;00m, \u001b[39m\"\u001b[39m\u001b[39mShould not reach.\u001b[39m\u001b[39m\"\u001b[39m\n\u001b[0;32m    246\u001b[0m \u001b[39mif\u001b[39;00m (\n\u001b[0;32m    247\u001b[0m     frozen_trial\u001b[39m.\u001b[39mstate \u001b[39m==\u001b[39m TrialState\u001b[39m.\u001b[39mFAIL\n\u001b[0;32m    248\u001b[0m     \u001b[39mand\u001b[39;00m func_err \u001b[39mis\u001b[39;00m \u001b[39mnot\u001b[39;00m \u001b[39mNone\u001b[39;00m\n\u001b[0;32m    249\u001b[0m     \u001b[39mand\u001b[39;00m \u001b[39mnot\u001b[39;00m \u001b[39misinstance\u001b[39m(func_err, catch)\n\u001b[0;32m    250\u001b[0m ):\n\u001b[1;32m--> 251\u001b[0m     \u001b[39mraise\u001b[39;00m func_err\n\u001b[0;32m    252\u001b[0m \u001b[39mreturn\u001b[39;00m frozen_trial\n",
      "File \u001b[1;32mc:\\Users\\ioann\\anaconda3\\envs\\ML\\lib\\site-packages\\optuna\\study\\_optimize.py:200\u001b[0m, in \u001b[0;36m_run_trial\u001b[1;34m(study, func, catch)\u001b[0m\n\u001b[0;32m    198\u001b[0m \u001b[39mwith\u001b[39;00m get_heartbeat_thread(trial\u001b[39m.\u001b[39m_trial_id, study\u001b[39m.\u001b[39m_storage):\n\u001b[0;32m    199\u001b[0m     \u001b[39mtry\u001b[39;00m:\n\u001b[1;32m--> 200\u001b[0m         value_or_values \u001b[39m=\u001b[39m func(trial)\n\u001b[0;32m    201\u001b[0m     \u001b[39mexcept\u001b[39;00m exceptions\u001b[39m.\u001b[39mTrialPruned \u001b[39mas\u001b[39;00m e:\n\u001b[0;32m    202\u001b[0m         \u001b[39m# TODO(mamu): Handle multi-objective cases.\u001b[39;00m\n\u001b[0;32m    203\u001b[0m         state \u001b[39m=\u001b[39m TrialState\u001b[39m.\u001b[39mPRUNED\n",
      "Cell \u001b[1;32mIn[8], line 28\u001b[0m, in \u001b[0;36mobjective\u001b[1;34m(trial)\u001b[0m\n\u001b[0;32m     20\u001b[0m model \u001b[39m=\u001b[39m xgboost\u001b[39m.\u001b[39mXGBClassifier(objective           \u001b[39m=\u001b[39m \u001b[39m'\u001b[39m\u001b[39mmulti:softmax\u001b[39m\u001b[39m'\u001b[39m,  \n\u001b[0;32m     21\u001b[0m                                 n_jobs              \u001b[39m=\u001b[39m \u001b[39m-\u001b[39m\u001b[39m1\u001b[39m,                                   \n\u001b[0;32m     22\u001b[0m                                 validate_parameters \u001b[39m=\u001b[39m \u001b[39mTrue\u001b[39;00m, \n\u001b[0;32m     23\u001b[0m                                 verbosity           \u001b[39m=\u001b[39m \u001b[39m1\u001b[39m,\n\u001b[0;32m     24\u001b[0m                                 tree_method         \u001b[39m=\u001b[39m \u001b[39m'\u001b[39m\u001b[39mhist\u001b[39m\u001b[39m'\u001b[39m,\n\u001b[0;32m     25\u001b[0m                                 \u001b[39m*\u001b[39m\u001b[39m*\u001b[39mparams)\n\u001b[0;32m     27\u001b[0m \u001b[39m# Cross-Validation\u001b[39;00m\n\u001b[1;32m---> 28\u001b[0m train_CV_results, test_CV_results, CM_cv \u001b[39m=\u001b[39m cross_validation(model\u001b[39m=\u001b[39;49mmodel, X\u001b[39m=\u001b[39;49mtrainX, Y\u001b[39m=\u001b[39;49mtrainY, n_splits\u001b[39m=\u001b[39;49mn_splits, seed\u001b[39m=\u001b[39;49mseed, VERBOSE\u001b[39m=\u001b[39;49mVERBOSE)\n\u001b[0;32m     30\u001b[0m \u001b[39m# Single-run \u001b[39;00m\n\u001b[0;32m     31\u001b[0m model, train_results, test_results, CM, predictions \u001b[39m=\u001b[39m single_run(model\u001b[39m=\u001b[39mmodel, trainX\u001b[39m=\u001b[39mtrainX, trainY\u001b[39m=\u001b[39mtrainY, testX\u001b[39m=\u001b[39mtestX, testY\u001b[39m=\u001b[39mtestY, VERBOSE\u001b[39m=\u001b[39mVERBOSE)\n",
      "File \u001b[1;32mc:\\Users\\ioann\\Repositories\\Glass_models\\Greek\\utils\\utils.py:55\u001b[0m, in \u001b[0;36mcross_validation\u001b[1;34m(model, X, Y, n_splits, seed, VERBOSE)\u001b[0m\n\u001b[0;32m     52\u001b[0m \u001b[39mif\u001b[39;00m (\u001b[39mtype\u001b[39m(model)\u001b[39m.\u001b[39m\u001b[39m__name__\u001b[39m \u001b[39m==\u001b[39m \u001b[39m'\u001b[39m\u001b[39mXGBClassifier\u001b[39m\u001b[39m'\u001b[39m):\n\u001b[0;32m     53\u001b[0m     weights \u001b[39m=\u001b[39m [Y[train]\u001b[39m.\u001b[39mshape[\u001b[39m0\u001b[39m] \u001b[39m/\u001b[39mnp\u001b[39m.\u001b[39mwhere(Y[train] \u001b[39m==\u001b[39m i)[\u001b[39m0\u001b[39m]\u001b[39m.\u001b[39mshape[\u001b[39m0\u001b[39m] \u001b[39mfor\u001b[39;00m i \u001b[39min\u001b[39;00m np\u001b[39m.\u001b[39munique(Y[train])]\n\u001b[1;32m---> 55\u001b[0m     model\u001b[39m.\u001b[39;49mfit(X[train], Y[train], \n\u001b[0;32m     56\u001b[0m             eval_metric \u001b[39m=\u001b[39;49m \u001b[39m'\u001b[39;49m\u001b[39mauc\u001b[39;49m\u001b[39m'\u001b[39;49m, \n\u001b[0;32m     57\u001b[0m             eval_set \u001b[39m=\u001b[39;49m [ (X[train], Y[train]), (X[test], Y[test]) ],\n\u001b[0;32m     58\u001b[0m             sample_weight \u001b[39m=\u001b[39;49m [weights[\u001b[39mint\u001b[39;49m(x)] \u001b[39mfor\u001b[39;49;00m x \u001b[39min\u001b[39;49;00m Y[train]],\n\u001b[0;32m     59\u001b[0m             verbose \u001b[39m=\u001b[39;49m \u001b[39mTrue\u001b[39;49;00m);\n\u001b[0;32m     60\u001b[0m \u001b[39melif\u001b[39;00m (\u001b[39mtype\u001b[39m(model)\u001b[39m.\u001b[39m\u001b[39m__name__\u001b[39m \u001b[39m==\u001b[39m \u001b[39m'\u001b[39m\u001b[39mLGBMClassifier\u001b[39m\u001b[39m'\u001b[39m):\n\u001b[0;32m     61\u001b[0m     model\u001b[39m.\u001b[39mfit(X[train], Y[train], \n\u001b[0;32m     62\u001b[0m             eval_metric \u001b[39m=\u001b[39m \u001b[39m'\u001b[39m\u001b[39mlogloss\u001b[39m\u001b[39m'\u001b[39m, \n\u001b[0;32m     63\u001b[0m             eval_set \u001b[39m=\u001b[39m [ (X[train], Y[train]), (X[test], Y[test]) ],\n\u001b[0;32m     64\u001b[0m             verbose \u001b[39m=\u001b[39m \u001b[39mFalse\u001b[39;00m);        \n",
      "File \u001b[1;32mc:\\Users\\ioann\\anaconda3\\envs\\ML\\lib\\site-packages\\xgboost\\core.py:620\u001b[0m, in \u001b[0;36mrequire_keyword_args.<locals>.throw_if.<locals>.inner_f\u001b[1;34m(*args, **kwargs)\u001b[0m\n\u001b[0;32m    618\u001b[0m \u001b[39mfor\u001b[39;00m k, arg \u001b[39min\u001b[39;00m \u001b[39mzip\u001b[39m(sig\u001b[39m.\u001b[39mparameters, args):\n\u001b[0;32m    619\u001b[0m     kwargs[k] \u001b[39m=\u001b[39m arg\n\u001b[1;32m--> 620\u001b[0m \u001b[39mreturn\u001b[39;00m func(\u001b[39m*\u001b[39;49m\u001b[39m*\u001b[39;49mkwargs)\n",
      "File \u001b[1;32mc:\\Users\\ioann\\anaconda3\\envs\\ML\\lib\\site-packages\\xgboost\\sklearn.py:1490\u001b[0m, in \u001b[0;36mXGBClassifier.fit\u001b[1;34m(self, X, y, sample_weight, base_margin, eval_set, eval_metric, early_stopping_rounds, verbose, xgb_model, sample_weight_eval_set, base_margin_eval_set, feature_weights, callbacks)\u001b[0m\n\u001b[0;32m   1462\u001b[0m (\n\u001b[0;32m   1463\u001b[0m     model,\n\u001b[0;32m   1464\u001b[0m     metric,\n\u001b[1;32m   (...)\u001b[0m\n\u001b[0;32m   1469\u001b[0m     xgb_model, eval_metric, params, early_stopping_rounds, callbacks\n\u001b[0;32m   1470\u001b[0m )\n\u001b[0;32m   1471\u001b[0m train_dmatrix, evals \u001b[39m=\u001b[39m _wrap_evaluation_matrices(\n\u001b[0;32m   1472\u001b[0m     missing\u001b[39m=\u001b[39m\u001b[39mself\u001b[39m\u001b[39m.\u001b[39mmissing,\n\u001b[0;32m   1473\u001b[0m     X\u001b[39m=\u001b[39mX,\n\u001b[1;32m   (...)\u001b[0m\n\u001b[0;32m   1487\u001b[0m     feature_types\u001b[39m=\u001b[39m\u001b[39mself\u001b[39m\u001b[39m.\u001b[39mfeature_types,\n\u001b[0;32m   1488\u001b[0m )\n\u001b[1;32m-> 1490\u001b[0m \u001b[39mself\u001b[39m\u001b[39m.\u001b[39m_Booster \u001b[39m=\u001b[39m train(\n\u001b[0;32m   1491\u001b[0m     params,\n\u001b[0;32m   1492\u001b[0m     train_dmatrix,\n\u001b[0;32m   1493\u001b[0m     \u001b[39mself\u001b[39;49m\u001b[39m.\u001b[39;49mget_num_boosting_rounds(),\n\u001b[0;32m   1494\u001b[0m     evals\u001b[39m=\u001b[39;49mevals,\n\u001b[0;32m   1495\u001b[0m     early_stopping_rounds\u001b[39m=\u001b[39;49mearly_stopping_rounds,\n\u001b[0;32m   1496\u001b[0m     evals_result\u001b[39m=\u001b[39;49mevals_result,\n\u001b[0;32m   1497\u001b[0m     obj\u001b[39m=\u001b[39;49mobj,\n\u001b[0;32m   1498\u001b[0m     custom_metric\u001b[39m=\u001b[39;49mmetric,\n\u001b[0;32m   1499\u001b[0m     verbose_eval\u001b[39m=\u001b[39;49mverbose,\n\u001b[0;32m   1500\u001b[0m     xgb_model\u001b[39m=\u001b[39;49mmodel,\n\u001b[0;32m   1501\u001b[0m     callbacks\u001b[39m=\u001b[39;49mcallbacks,\n\u001b[0;32m   1502\u001b[0m )\n\u001b[0;32m   1504\u001b[0m \u001b[39mif\u001b[39;00m \u001b[39mnot\u001b[39;00m callable(\u001b[39mself\u001b[39m\u001b[39m.\u001b[39mobjective):\n\u001b[0;32m   1505\u001b[0m     \u001b[39mself\u001b[39m\u001b[39m.\u001b[39mobjective \u001b[39m=\u001b[39m params[\u001b[39m\"\u001b[39m\u001b[39mobjective\u001b[39m\u001b[39m\"\u001b[39m]\n",
      "File \u001b[1;32mc:\\Users\\ioann\\anaconda3\\envs\\ML\\lib\\site-packages\\xgboost\\core.py:620\u001b[0m, in \u001b[0;36mrequire_keyword_args.<locals>.throw_if.<locals>.inner_f\u001b[1;34m(*args, **kwargs)\u001b[0m\n\u001b[0;32m    618\u001b[0m \u001b[39mfor\u001b[39;00m k, arg \u001b[39min\u001b[39;00m \u001b[39mzip\u001b[39m(sig\u001b[39m.\u001b[39mparameters, args):\n\u001b[0;32m    619\u001b[0m     kwargs[k] \u001b[39m=\u001b[39m arg\n\u001b[1;32m--> 620\u001b[0m \u001b[39mreturn\u001b[39;00m func(\u001b[39m*\u001b[39;49m\u001b[39m*\u001b[39;49mkwargs)\n",
      "File \u001b[1;32mc:\\Users\\ioann\\anaconda3\\envs\\ML\\lib\\site-packages\\xgboost\\training.py:186\u001b[0m, in \u001b[0;36mtrain\u001b[1;34m(params, dtrain, num_boost_round, evals, obj, feval, maximize, early_stopping_rounds, evals_result, verbose_eval, xgb_model, callbacks, custom_metric)\u001b[0m\n\u001b[0;32m    184\u001b[0m         \u001b[39mbreak\u001b[39;00m\n\u001b[0;32m    185\u001b[0m     bst\u001b[39m.\u001b[39mupdate(dtrain, i, obj)\n\u001b[1;32m--> 186\u001b[0m     \u001b[39mif\u001b[39;00m cb_container\u001b[39m.\u001b[39;49mafter_iteration(bst, i, dtrain, evals):\n\u001b[0;32m    187\u001b[0m         \u001b[39mbreak\u001b[39;00m\n\u001b[0;32m    189\u001b[0m bst \u001b[39m=\u001b[39m cb_container\u001b[39m.\u001b[39mafter_training(bst)\n",
      "File \u001b[1;32mc:\\Users\\ioann\\anaconda3\\envs\\ML\\lib\\site-packages\\xgboost\\callback.py:240\u001b[0m, in \u001b[0;36mCallbackContainer.after_iteration\u001b[1;34m(self, model, epoch, dtrain, evals)\u001b[0m\n\u001b[0;32m    238\u001b[0m \u001b[39mfor\u001b[39;00m _, name \u001b[39min\u001b[39;00m evals:\n\u001b[0;32m    239\u001b[0m     \u001b[39massert\u001b[39;00m name\u001b[39m.\u001b[39mfind(\u001b[39m'\u001b[39m\u001b[39m-\u001b[39m\u001b[39m'\u001b[39m) \u001b[39m==\u001b[39m \u001b[39m-\u001b[39m\u001b[39m1\u001b[39m, \u001b[39m'\u001b[39m\u001b[39mDataset name should not contain `-`\u001b[39m\u001b[39m'\u001b[39m\n\u001b[1;32m--> 240\u001b[0m score: \u001b[39mstr\u001b[39m \u001b[39m=\u001b[39m model\u001b[39m.\u001b[39;49meval_set(evals, epoch, \u001b[39mself\u001b[39;49m\u001b[39m.\u001b[39;49mmetric, \u001b[39mself\u001b[39;49m\u001b[39m.\u001b[39;49m_output_margin)\n\u001b[0;32m    241\u001b[0m splited \u001b[39m=\u001b[39m score\u001b[39m.\u001b[39msplit()[\u001b[39m1\u001b[39m:]  \u001b[39m# into datasets\u001b[39;00m\n\u001b[0;32m    242\u001b[0m \u001b[39m# split up `test-error:0.1234`\u001b[39;00m\n",
      "File \u001b[1;32mc:\\Users\\ioann\\anaconda3\\envs\\ML\\lib\\site-packages\\xgboost\\core.py:1989\u001b[0m, in \u001b[0;36mBooster.eval_set\u001b[1;34m(self, evals, iteration, feval, output_margin)\u001b[0m\n\u001b[0;32m   1986\u001b[0m evnames \u001b[39m=\u001b[39m c_array(ctypes\u001b[39m.\u001b[39mc_char_p, [c_str(d[\u001b[39m1\u001b[39m]) \u001b[39mfor\u001b[39;00m d \u001b[39min\u001b[39;00m evals])\n\u001b[0;32m   1987\u001b[0m msg \u001b[39m=\u001b[39m ctypes\u001b[39m.\u001b[39mc_char_p()\n\u001b[0;32m   1988\u001b[0m _check_call(\n\u001b[1;32m-> 1989\u001b[0m     _LIB\u001b[39m.\u001b[39;49mXGBoosterEvalOneIter(\n\u001b[0;32m   1990\u001b[0m         \u001b[39mself\u001b[39;49m\u001b[39m.\u001b[39;49mhandle,\n\u001b[0;32m   1991\u001b[0m         ctypes\u001b[39m.\u001b[39;49mc_int(iteration),\n\u001b[0;32m   1992\u001b[0m         dmats,\n\u001b[0;32m   1993\u001b[0m         evnames,\n\u001b[0;32m   1994\u001b[0m         c_bst_ulong(\u001b[39mlen\u001b[39;49m(evals)),\n\u001b[0;32m   1995\u001b[0m         ctypes\u001b[39m.\u001b[39;49mbyref(msg),\n\u001b[0;32m   1996\u001b[0m     )\n\u001b[0;32m   1997\u001b[0m )\n\u001b[0;32m   1998\u001b[0m \u001b[39massert\u001b[39;00m msg\u001b[39m.\u001b[39mvalue \u001b[39mis\u001b[39;00m \u001b[39mnot\u001b[39;00m \u001b[39mNone\u001b[39;00m\n\u001b[0;32m   1999\u001b[0m res \u001b[39m=\u001b[39m msg\u001b[39m.\u001b[39mvalue\u001b[39m.\u001b[39mdecode()  \u001b[39m# pylint: disable=no-member\u001b[39;00m\n",
      "\u001b[1;31mKeyboardInterrupt\u001b[0m: "
     ]
    }
   ],
   "source": [
    "study = optuna.create_study(direction='maximize',\n",
    "                            sampler=optuna.samplers.TPESampler(seed = seed),\n",
    "                           )\n",
    "\n",
    "study.optimize(func=objective, \n",
    "               n_trials=n_trials, \n",
    "               n_jobs=1,)"
   ]
  },
  {
   "cell_type": "code",
   "execution_count": null,
   "metadata": {},
   "outputs": [],
   "source": [
    "# Delete temp directory\n",
    "import shutil\n",
    "shutil.rmtree('Performance')"
   ]
  },
  {
   "attachments": {},
   "cell_type": "markdown",
   "metadata": {},
   "source": [
    "### Visualization of the learning curves of the trials\n"
   ]
  },
  {
   "cell_type": "code",
   "execution_count": null,
   "metadata": {
    "tags": []
   },
   "outputs": [],
   "source": [
    "optuna.visualization.plot_optimization_history(study)"
   ]
  },
  {
   "attachments": {},
   "cell_type": "markdown",
   "metadata": {},
   "source": [
    "### Visualization of hyperparameter relationships\n"
   ]
  },
  {
   "cell_type": "code",
   "execution_count": null,
   "metadata": {},
   "outputs": [],
   "source": [
    "optuna.visualization.plot_parallel_coordinate(study, params=[params for params in study.best_params])"
   ]
  },
  {
   "attachments": {},
   "cell_type": "markdown",
   "metadata": {},
   "source": [
    "### Hyperparameter importances\n"
   ]
  },
  {
   "cell_type": "code",
   "execution_count": null,
   "metadata": {},
   "outputs": [],
   "source": [
    "optuna.visualization.plot_param_importances(study, \n",
    "                                            target      = lambda t: t.duration.total_seconds(), \n",
    "                                            target_name = \"duration\")"
   ]
  },
  {
   "attachments": {},
   "cell_type": "markdown",
   "metadata": {},
   "source": [
    "### Get optimized hyperparameters"
   ]
  },
  {
   "cell_type": "code",
   "execution_count": null,
   "metadata": {},
   "outputs": [],
   "source": [
    "print('[INFO] Optimized hyperparameters\\n')\n",
    "for (parameter,value) in study.best_params.items():\n",
    "    if ( isinstance(value, float) ):\n",
    "        print(' >%25s: %.3f' % (parameter,value))\n",
    "    else:\n",
    "        print(' >%25s: %s' % (parameter,value))"
   ]
  },
  {
   "cell_type": "code",
   "execution_count": null,
   "metadata": {},
   "outputs": [],
   "source": []
  }
 ],
 "metadata": {
  "kernelspec": {
   "display_name": "tensorflow",
   "language": "python",
   "name": "python3"
  },
  "language_info": {
   "codemirror_mode": {
    "name": "ipython",
    "version": 3
   },
   "file_extension": ".py",
   "mimetype": "text/x-python",
   "name": "python",
   "nbconvert_exporter": "python",
   "pygments_lexer": "ipython3",
   "version": "3.8.16"
  },
  "toc": {
   "base_numbering": 1,
   "nav_menu": {},
   "number_sections": true,
   "sideBar": true,
   "skip_h1_title": false,
   "title_cell": "Table of Contents",
   "title_sidebar": "Contents",
   "toc_cell": false,
   "toc_position": {},
   "toc_section_display": true,
   "toc_window_display": true
  },
  "varInspector": {
   "cols": {
    "lenName": 16,
    "lenType": 16,
    "lenVar": 40
   },
   "kernels_config": {
    "python": {
     "delete_cmd_postfix": "",
     "delete_cmd_prefix": "del ",
     "library": "var_list.py",
     "varRefreshCmd": "print(var_dic_list())"
    },
    "r": {
     "delete_cmd_postfix": ") ",
     "delete_cmd_prefix": "rm(",
     "library": "var_list.r",
     "varRefreshCmd": "cat(var_dic_list()) "
    }
   },
   "types_to_exclude": [
    "module",
    "function",
    "builtin_function_or_method",
    "instance",
    "_Feature"
   ],
   "window_display": false
  }
 },
 "nbformat": 4,
 "nbformat_minor": 4
}

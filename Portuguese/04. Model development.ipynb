{
 "cells": [
  {
   "attachments": {},
   "cell_type": "markdown",
   "metadata": {},
   "source": [
    "# Import libraries"
   ]
  },
  {
   "cell_type": "code",
   "execution_count": 1,
   "metadata": {},
   "outputs": [],
   "source": [
    "import warnings\n",
    "warnings.filterwarnings( 'ignore' )\n",
    "\n",
    "import os\n",
    "import pickle\n",
    "import joblib\n",
    "import numpy    as np\n",
    "from sklearn import metrics"
   ]
  },
  {
   "attachments": {},
   "cell_type": "markdown",
   "metadata": {},
   "source": [
    "# Data"
   ]
  },
  {
   "cell_type": "code",
   "execution_count": 2,
   "metadata": {},
   "outputs": [],
   "source": [
    "# Load data\n",
    "X = np.load('Data/data.npz', allow_pickle=True)['X']\n",
    "y = np.load('Data/data.npz', allow_pickle=True)['y']\n",
    "\n",
    "# Label encoding for targe class\n",
    "from sklearn.preprocessing import LabelEncoder\n",
    "le = LabelEncoder()\n",
    "y = le.fit_transform(y)\n",
    "pickle.dump(le, open('Model/Label_encoder.pkl', 'wb'))"
   ]
  },
  {
   "attachments": {},
   "cell_type": "markdown",
   "metadata": {},
   "source": [
    "## Prediction model"
   ]
  },
  {
   "cell_type": "code",
   "execution_count": 3,
   "metadata": {},
   "outputs": [
    {
     "name": "stdout",
     "output_type": "stream",
     "text": [
      "[0]\tvalidation_0-auc:0.58062\tvalidation_0-aucpr:0.16563\tvalidation_0-mlogloss:2.00307\n",
      "[50]\tvalidation_0-auc:0.72916\tvalidation_0-aucpr:0.61725\tvalidation_0-mlogloss:1.00277\n",
      "[100]\tvalidation_0-auc:0.76837\tvalidation_0-aucpr:0.67483\tvalidation_0-mlogloss:0.82584\n",
      "[150]\tvalidation_0-auc:0.78600\tvalidation_0-aucpr:0.70294\tvalidation_0-mlogloss:0.74900\n",
      "[200]\tvalidation_0-auc:0.79545\tvalidation_0-aucpr:0.71742\tvalidation_0-mlogloss:0.70725\n",
      "[250]\tvalidation_0-auc:0.80221\tvalidation_0-aucpr:0.72691\tvalidation_0-mlogloss:0.67992\n",
      "[300]\tvalidation_0-auc:0.80782\tvalidation_0-aucpr:0.73465\tvalidation_0-mlogloss:0.65898\n",
      "[350]\tvalidation_0-auc:0.81204\tvalidation_0-aucpr:0.74021\tvalidation_0-mlogloss:0.64326\n",
      "[400]\tvalidation_0-auc:0.81569\tvalidation_0-aucpr:0.74518\tvalidation_0-mlogloss:0.63078\n",
      "[450]\tvalidation_0-auc:0.81880\tvalidation_0-aucpr:0.75021\tvalidation_0-mlogloss:0.62034\n",
      "[499]\tvalidation_0-auc:0.82136\tvalidation_0-aucpr:0.75340\tvalidation_0-mlogloss:0.61210\n"
     ]
    }
   ],
   "source": [
    "import xgboost\n",
    "\n",
    "# Parameters\n",
    "params = {\n",
    "    'n_estimators'      : 500,\n",
    "    'learning_rate'     : 1e-1,\n",
    "    'max_depth'         : 10,\n",
    "    'reg_alpha'         : 20, \n",
    "    'reg_lambda'        : 1.0, \n",
    "    'gamma'             : 1, \n",
    "    'min_child_weight'  : 2, \n",
    "    'max_leaves'        : 2, \n",
    "    'eval_metric'       : ['auc', 'aucpr', 'mlogloss']\n",
    "}\n",
    "\n",
    "\n",
    "# Setup model\n",
    "model = xgboost.XGBClassifier(objective           = 'multi:softmax',  \n",
    "                              n_jobs              = -1,                                   \n",
    "                              validate_parameters = True, \n",
    "                              verbosity           = 1,\n",
    "                              tree_method         = 'hist',\n",
    "                              **params)\n",
    "\n",
    "# Train model\n",
    "weights = [y.shape[0] / np.where(y == i)[0].shape[0] for i in np.unique(y)]\n",
    "\n",
    "model.fit(X, y,\n",
    "          eval_set = [ (X, y) ],\n",
    "          sample_weight = [weights[int(x)] for x in y],\n",
    "          verbose = 50);"
   ]
  },
  {
   "cell_type": "code",
   "execution_count": 4,
   "metadata": {},
   "outputs": [
    {
     "name": "stdout",
     "output_type": "stream",
     "text": [
      "Accuracy: 74.363%\n",
      "Precision: 0.645\n",
      "Recall: 0.832\n"
     ]
    },
    {
     "data": {
      "text/plain": [
       "array([[   641,    239,      7,      4,     83,      0,      0,      0],\n",
       "       [   208,    593,      3,      2,     61,      0,      0,      0],\n",
       "       [   267,    691, 149448,  40243,   2176,      2,      7,      3],\n",
       "       [   146,    215,  50096, 128516,   2021,      0,     21,      5],\n",
       "       [     6,     12,      1,      6,    119,      0,      0,      0],\n",
       "       [     0,      0,      0,      0,      0,     14,      0,      0],\n",
       "       [     0,      0,      0,      0,      0,      0,    408,      0],\n",
       "       [     0,      0,      0,      0,      0,      0,      0,    236]],\n",
       "      dtype=int64)"
      ]
     },
     "execution_count": 4,
     "metadata": {},
     "output_type": "execute_result"
    }
   ],
   "source": [
    "# Get predictions\n",
    "pred = model.predict(X)\n",
    "\n",
    "# Model Evaluation\n",
    "Accuracy = 100*metrics.accuracy_score(y, pred)\n",
    "Recall = metrics.recall_score(y, pred, average='macro')\n",
    "Precision = metrics.precision_score(y, pred, average='macro')   \n",
    "CM = metrics.confusion_matrix(y, pred)\n",
    "\n",
    "print(f'Accuracy: {Accuracy:.3f}%')\n",
    "print(f'Precision: {Precision:.3f}')\n",
    "print(f'Recall: {Recall:.3f}')\n",
    "CM"
   ]
  },
  {
   "attachments": {},
   "cell_type": "markdown",
   "metadata": {},
   "source": [
    "### Model 1"
   ]
  },
  {
   "cell_type": "code",
   "execution_count": 5,
   "metadata": {},
   "outputs": [
    {
     "name": "stdout",
     "output_type": "stream",
     "text": [
      "Accuracy: 73.216%\n",
      "Precision: 0.579\n",
      "Recall: 0.816\n"
     ]
    },
    {
     "data": {
      "text/plain": [
       "array([[   687,    244,     15,      7,     18,      0,      3,      0],\n",
       "       [   181,    651,      9,      5,     21,      0,      0,      0],\n",
       "       [   455,    625, 152688,  37594,   1282,      0,    151,     42],\n",
       "       [   298,    185,  58569, 120889,    844,      0,    217,     18],\n",
       "       [    14,     22,      7,      7,     94,      0,      0,      0],\n",
       "       [     0,      0,      0,      0,      0,     14,      0,      0],\n",
       "       [     0,      0,      0,      0,      0,      0,    408,      0],\n",
       "       [     0,      0,      2,      0,      0,      0,      7,    227]],\n",
       "      dtype=int64)"
      ]
     },
     "execution_count": 5,
     "metadata": {},
     "output_type": "execute_result"
    }
   ],
   "source": [
    "from sklearn.ensemble import RandomForestClassifier\n",
    "\n",
    "model = RandomForestClassifier(n_estimators=300,\n",
    "                               n_jobs=-1, \n",
    "                               max_depth=5, \n",
    "                               class_weight='balanced')\n",
    "\n",
    "model.fit(X, y)\n",
    "\n",
    "# Get predictions\n",
    "pred = model.predict(X)\n",
    "\n",
    "# Model Evaluation\n",
    "Accuracy = 100*metrics.accuracy_score(y, pred)\n",
    "Recall = metrics.recall_score(y, pred, average='macro')\n",
    "Precision = metrics.precision_score(y, pred, average='macro')   \n",
    "CM = metrics.confusion_matrix(y, pred)\n",
    "\n",
    "print(f'Accuracy: {Accuracy:.3f}%')\n",
    "print(f'Precision: {Precision:.3f}')\n",
    "print(f'Recall: {Recall:.3f}')\n",
    "CM"
   ]
  },
  {
   "attachments": {},
   "cell_type": "markdown",
   "metadata": {},
   "source": [
    "### Model 2"
   ]
  },
  {
   "cell_type": "code",
   "execution_count": 6,
   "metadata": {},
   "outputs": [
    {
     "data": {
      "text/html": [
       "<style>#sk-container-id-1 {color: black;background-color: white;}#sk-container-id-1 pre{padding: 0;}#sk-container-id-1 div.sk-toggleable {background-color: white;}#sk-container-id-1 label.sk-toggleable__label {cursor: pointer;display: block;width: 100%;margin-bottom: 0;padding: 0.3em;box-sizing: border-box;text-align: center;}#sk-container-id-1 label.sk-toggleable__label-arrow:before {content: \"▸\";float: left;margin-right: 0.25em;color: #696969;}#sk-container-id-1 label.sk-toggleable__label-arrow:hover:before {color: black;}#sk-container-id-1 div.sk-estimator:hover label.sk-toggleable__label-arrow:before {color: black;}#sk-container-id-1 div.sk-toggleable__content {max-height: 0;max-width: 0;overflow: hidden;text-align: left;background-color: #f0f8ff;}#sk-container-id-1 div.sk-toggleable__content pre {margin: 0.2em;color: black;border-radius: 0.25em;background-color: #f0f8ff;}#sk-container-id-1 input.sk-toggleable__control:checked~div.sk-toggleable__content {max-height: 200px;max-width: 100%;overflow: auto;}#sk-container-id-1 input.sk-toggleable__control:checked~label.sk-toggleable__label-arrow:before {content: \"▾\";}#sk-container-id-1 div.sk-estimator input.sk-toggleable__control:checked~label.sk-toggleable__label {background-color: #d4ebff;}#sk-container-id-1 div.sk-label input.sk-toggleable__control:checked~label.sk-toggleable__label {background-color: #d4ebff;}#sk-container-id-1 input.sk-hidden--visually {border: 0;clip: rect(1px 1px 1px 1px);clip: rect(1px, 1px, 1px, 1px);height: 1px;margin: -1px;overflow: hidden;padding: 0;position: absolute;width: 1px;}#sk-container-id-1 div.sk-estimator {font-family: monospace;background-color: #f0f8ff;border: 1px dotted black;border-radius: 0.25em;box-sizing: border-box;margin-bottom: 0.5em;}#sk-container-id-1 div.sk-estimator:hover {background-color: #d4ebff;}#sk-container-id-1 div.sk-parallel-item::after {content: \"\";width: 100%;border-bottom: 1px solid gray;flex-grow: 1;}#sk-container-id-1 div.sk-label:hover label.sk-toggleable__label {background-color: #d4ebff;}#sk-container-id-1 div.sk-serial::before {content: \"\";position: absolute;border-left: 1px solid gray;box-sizing: border-box;top: 0;bottom: 0;left: 50%;z-index: 0;}#sk-container-id-1 div.sk-serial {display: flex;flex-direction: column;align-items: center;background-color: white;padding-right: 0.2em;padding-left: 0.2em;position: relative;}#sk-container-id-1 div.sk-item {position: relative;z-index: 1;}#sk-container-id-1 div.sk-parallel {display: flex;align-items: stretch;justify-content: center;background-color: white;position: relative;}#sk-container-id-1 div.sk-item::before, #sk-container-id-1 div.sk-parallel-item::before {content: \"\";position: absolute;border-left: 1px solid gray;box-sizing: border-box;top: 0;bottom: 0;left: 50%;z-index: -1;}#sk-container-id-1 div.sk-parallel-item {display: flex;flex-direction: column;z-index: 1;position: relative;background-color: white;}#sk-container-id-1 div.sk-parallel-item:first-child::after {align-self: flex-end;width: 50%;}#sk-container-id-1 div.sk-parallel-item:last-child::after {align-self: flex-start;width: 50%;}#sk-container-id-1 div.sk-parallel-item:only-child::after {width: 0;}#sk-container-id-1 div.sk-dashed-wrapped {border: 1px dashed gray;margin: 0 0.4em 0.5em 0.4em;box-sizing: border-box;padding-bottom: 0.4em;background-color: white;}#sk-container-id-1 div.sk-label label {font-family: monospace;font-weight: bold;display: inline-block;line-height: 1.2em;}#sk-container-id-1 div.sk-label-container {text-align: center;}#sk-container-id-1 div.sk-container {/* jupyter's `normalize.less` sets `[hidden] { display: none; }` but bootstrap.min.css set `[hidden] { display: none !important; }` so we also need the `!important` here to be able to override the default hidden behavior on the sphinx rendered scikit-learn.org. See: https://github.com/scikit-learn/scikit-learn/issues/21755 */display: inline-block !important;position: relative;}#sk-container-id-1 div.sk-text-repr-fallback {display: none;}</style><div id=\"sk-container-id-1\" class=\"sk-top-container\"><div class=\"sk-text-repr-fallback\"><pre>RandomForestClassifier(class_weight=&#x27;balanced&#x27;, max_depth=15, n_estimators=300,\n",
       "                       n_jobs=-1)</pre><b>In a Jupyter environment, please rerun this cell to show the HTML representation or trust the notebook. <br />On GitHub, the HTML representation is unable to render, please try loading this page with nbviewer.org.</b></div><div class=\"sk-container\" hidden><div class=\"sk-item\"><div class=\"sk-estimator sk-toggleable\"><input class=\"sk-toggleable__control sk-hidden--visually\" id=\"sk-estimator-id-1\" type=\"checkbox\" checked><label for=\"sk-estimator-id-1\" class=\"sk-toggleable__label sk-toggleable__label-arrow\">RandomForestClassifier</label><div class=\"sk-toggleable__content\"><pre>RandomForestClassifier(class_weight=&#x27;balanced&#x27;, max_depth=15, n_estimators=300,\n",
       "                       n_jobs=-1)</pre></div></div></div></div></div>"
      ],
      "text/plain": [
       "RandomForestClassifier(class_weight='balanced', max_depth=15, n_estimators=300,\n",
       "                       n_jobs=-1)"
      ]
     },
     "execution_count": 6,
     "metadata": {},
     "output_type": "execute_result"
    }
   ],
   "source": [
    "from sklearn.ensemble import RandomForestClassifier\n",
    "\n",
    "model = RandomForestClassifier(n_estimators=300,\n",
    "                               n_jobs=-1, \n",
    "                               max_depth=15, \n",
    "                               class_weight='balanced')\n",
    "\n",
    "model.fit(X, y)"
   ]
  },
  {
   "cell_type": "code",
   "execution_count": 7,
   "metadata": {},
   "outputs": [
    {
     "name": "stdout",
     "output_type": "stream",
     "text": [
      "Accuracy: 82.778%\n",
      "Precision: 0.957\n",
      "Recall: 0.956\n"
     ]
    },
    {
     "data": {
      "text/plain": [
       "array([[   974,      0,      0,      0,      0,      0,      0,      0],\n",
       "       [     0,    866,      1,      0,      0,      0,      0,      0],\n",
       "       [     0,      0, 168184,  24653,      0,      0,      0,      0],\n",
       "       [     0,      0,  40188, 140832,      0,      0,      0,      0],\n",
       "       [     0,      0,      0,      0,    144,      0,      0,      0],\n",
       "       [     0,      0,      0,      0,      0,     14,      0,      0],\n",
       "       [     0,      0,      0,      0,      0,      0,    408,      0],\n",
       "       [     0,      0,      0,      0,      0,      0,      0,    236]],\n",
       "      dtype=int64)"
      ]
     },
     "execution_count": 7,
     "metadata": {},
     "output_type": "execute_result"
    }
   ],
   "source": [
    "# Get predictions\n",
    "pred = model.predict(X)\n",
    "\n",
    "# Model Evaluation\n",
    "Accuracy = 100*metrics.accuracy_score(y, pred)\n",
    "Recall = metrics.recall_score(y, pred, average='macro')\n",
    "Precision = metrics.precision_score(y, pred, average='macro')   \n",
    "CM = metrics.confusion_matrix(y, pred)\n",
    "\n",
    "print(f'Accuracy: {Accuracy:.3f}%')\n",
    "print(f'Precision: {Precision:.3f}')\n",
    "print(f'Recall: {Recall:.3f}')\n",
    "CM"
   ]
  },
  {
   "cell_type": "code",
   "execution_count": 8,
   "metadata": {},
   "outputs": [],
   "source": [
    "joblib.dump(model, \"Model/model.joblib\", compress=3)"
   ]
  }
 ],
 "metadata": {
  "kernelspec": {
   "display_name": "tensorflow",
   "language": "python",
   "name": "python3"
  },
  "language_info": {
   "codemirror_mode": {
    "name": "ipython",
    "version": 3
   },
   "file_extension": ".py",
   "mimetype": "text/x-python",
   "name": "python",
   "nbconvert_exporter": "python",
   "pygments_lexer": "ipython3",
   "version": "3.8.16"
  },
  "toc": {
   "base_numbering": 1,
   "nav_menu": {},
   "number_sections": true,
   "sideBar": true,
   "skip_h1_title": false,
   "title_cell": "Table of Contents",
   "title_sidebar": "Contents",
   "toc_cell": false,
   "toc_position": {},
   "toc_section_display": true,
   "toc_window_display": true
  },
  "varInspector": {
   "cols": {
    "lenName": 16,
    "lenType": 16,
    "lenVar": 40
   },
   "kernels_config": {
    "python": {
     "delete_cmd_postfix": "",
     "delete_cmd_prefix": "del ",
     "library": "var_list.py",
     "varRefreshCmd": "print(var_dic_list())"
    },
    "r": {
     "delete_cmd_postfix": ") ",
     "delete_cmd_prefix": "rm(",
     "library": "var_list.r",
     "varRefreshCmd": "cat(var_dic_list()) "
    }
   },
   "types_to_exclude": [
    "module",
    "function",
    "builtin_function_or_method",
    "instance",
    "_Feature"
   ],
   "window_display": false
  }
 },
 "nbformat": 4,
 "nbformat_minor": 4
}

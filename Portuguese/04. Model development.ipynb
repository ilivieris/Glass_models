{
 "cells": [
  {
   "attachments": {},
   "cell_type": "markdown",
   "metadata": {},
   "source": [
    "# Import libraries"
   ]
  },
  {
   "cell_type": "code",
   "execution_count": 1,
   "metadata": {},
   "outputs": [],
   "source": [
    "import warnings\n",
    "warnings.filterwarnings( 'ignore' )\n",
    "\n",
    "# Basic libraries\n",
    "import os\n",
    "import pickle\n",
    "import numpy    as np\n",
    "import xgboost"
   ]
  },
  {
   "attachments": {},
   "cell_type": "markdown",
   "metadata": {},
   "source": [
    "# Data"
   ]
  },
  {
   "cell_type": "code",
   "execution_count": 2,
   "metadata": {},
   "outputs": [],
   "source": [
    "# Load data\n",
    "X = np.load('Data/data.npz', allow_pickle=True)['X']\n",
    "y = np.load('Data/data.npz', allow_pickle=True)['y']\n",
    "\n",
    "# Label encoding for targe class\n",
    "from sklearn.preprocessing import LabelEncoder\n",
    "le = LabelEncoder()\n",
    "y = le.fit_transform(y)\n",
    "pickle.dump(le, open('Model/Label_encoder.pkl', 'wb'))"
   ]
  },
  {
   "attachments": {},
   "cell_type": "markdown",
   "metadata": {},
   "source": [
    "## Prediction model"
   ]
  },
  {
   "cell_type": "code",
   "execution_count": 3,
   "metadata": {},
   "outputs": [
    {
     "name": "stdout",
     "output_type": "stream",
     "text": [
      "[0]\tvalidation_0-auc:0.58062\tvalidation_0-aucpr:0.16563\tvalidation_0-mlogloss:2.00307\n",
      "[50]\tvalidation_0-auc:0.72916\tvalidation_0-aucpr:0.61725\tvalidation_0-mlogloss:1.00277\n",
      "[100]\tvalidation_0-auc:0.76837\tvalidation_0-aucpr:0.67483\tvalidation_0-mlogloss:0.82584\n",
      "[150]\tvalidation_0-auc:0.78600\tvalidation_0-aucpr:0.70294\tvalidation_0-mlogloss:0.74900\n",
      "[200]\tvalidation_0-auc:0.79545\tvalidation_0-aucpr:0.71742\tvalidation_0-mlogloss:0.70725\n",
      "[250]\tvalidation_0-auc:0.80221\tvalidation_0-aucpr:0.72691\tvalidation_0-mlogloss:0.67992\n",
      "[300]\tvalidation_0-auc:0.80782\tvalidation_0-aucpr:0.73465\tvalidation_0-mlogloss:0.65898\n",
      "[350]\tvalidation_0-auc:0.81204\tvalidation_0-aucpr:0.74021\tvalidation_0-mlogloss:0.64326\n",
      "[400]\tvalidation_0-auc:0.81569\tvalidation_0-aucpr:0.74518\tvalidation_0-mlogloss:0.63078\n",
      "[450]\tvalidation_0-auc:0.81880\tvalidation_0-aucpr:0.75021\tvalidation_0-mlogloss:0.62034\n",
      "[500]\tvalidation_0-auc:0.82147\tvalidation_0-aucpr:0.75353\tvalidation_0-mlogloss:0.61183\n",
      "[550]\tvalidation_0-auc:0.82398\tvalidation_0-aucpr:0.75678\tvalidation_0-mlogloss:0.60434\n",
      "[600]\tvalidation_0-auc:0.82623\tvalidation_0-aucpr:0.75988\tvalidation_0-mlogloss:0.59778\n",
      "[650]\tvalidation_0-auc:0.82809\tvalidation_0-aucpr:0.76305\tvalidation_0-mlogloss:0.59172\n",
      "[700]\tvalidation_0-auc:0.83014\tvalidation_0-aucpr:0.76593\tvalidation_0-mlogloss:0.58589\n",
      "[750]\tvalidation_0-auc:0.83200\tvalidation_0-aucpr:0.76829\tvalidation_0-mlogloss:0.58070\n",
      "[799]\tvalidation_0-auc:0.83360\tvalidation_0-aucpr:0.77080\tvalidation_0-mlogloss:0.57607\n"
     ]
    }
   ],
   "source": [
    "# Parameters\n",
    "params = {\n",
    "    'n_estimators'      : 800,\n",
    "    'learning_rate'     : 1e-1,\n",
    "    'max_depth'         : 10,\n",
    "    'reg_alpha'         : 20, \n",
    "    'reg_lambda'        : 1.0, \n",
    "    'gamma'             : 1, \n",
    "    'min_child_weight'  : 2, \n",
    "    'max_leaves'        : 2, \n",
    "    'eval_metric'       : ['auc', 'aucpr', 'mlogloss']\n",
    "}\n",
    "\n",
    "\n",
    "# Setup model\n",
    "model = xgboost.XGBClassifier(objective           = 'multi:softmax',  \n",
    "                              n_jobs              = -1,                                   \n",
    "                              validate_parameters = True, \n",
    "                              verbosity           = 1,\n",
    "                              tree_method         = 'hist',\n",
    "                              **params)\n",
    "\n",
    "# Train model\n",
    "weights = [y.shape[0] / np.where(y == i)[0].shape[0] for i in np.unique(y)]\n",
    "\n",
    "model.fit(X, y,\n",
    "          eval_set = [ (X, y) ],\n",
    "          sample_weight = [weights[int(x)] for x in y],\n",
    "          verbose = 50);"
   ]
  },
  {
   "cell_type": "code",
   "execution_count": 4,
   "metadata": {},
   "outputs": [],
   "source": [
    "pickle.dump(model, open('Model/model.pkl', 'wb'))"
   ]
  }
 ],
 "metadata": {
  "kernelspec": {
   "display_name": "tensorflow",
   "language": "python",
   "name": "python3"
  },
  "language_info": {
   "codemirror_mode": {
    "name": "ipython",
    "version": 3
   },
   "file_extension": ".py",
   "mimetype": "text/x-python",
   "name": "python",
   "nbconvert_exporter": "python",
   "pygments_lexer": "ipython3",
   "version": "3.8.16"
  },
  "toc": {
   "base_numbering": 1,
   "nav_menu": {},
   "number_sections": true,
   "sideBar": true,
   "skip_h1_title": false,
   "title_cell": "Table of Contents",
   "title_sidebar": "Contents",
   "toc_cell": false,
   "toc_position": {},
   "toc_section_display": true,
   "toc_window_display": true
  },
  "varInspector": {
   "cols": {
    "lenName": 16,
    "lenType": 16,
    "lenVar": 40
   },
   "kernels_config": {
    "python": {
     "delete_cmd_postfix": "",
     "delete_cmd_prefix": "del ",
     "library": "var_list.py",
     "varRefreshCmd": "print(var_dic_list())"
    },
    "r": {
     "delete_cmd_postfix": ") ",
     "delete_cmd_prefix": "rm(",
     "library": "var_list.r",
     "varRefreshCmd": "cat(var_dic_list()) "
    }
   },
   "types_to_exclude": [
    "module",
    "function",
    "builtin_function_or_method",
    "instance",
    "_Feature"
   ],
   "window_display": false
  }
 },
 "nbformat": 4,
 "nbformat_minor": 4
}

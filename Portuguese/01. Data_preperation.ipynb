{
 "cells": [
  {
   "cell_type": "code",
   "execution_count": 8,
   "metadata": {},
   "outputs": [],
   "source": [
    "import spacy\n",
    "import pandas as pd\n",
    "import numpy as np\n",
    "from tqdm import tqdm\n",
    "\n",
    "# python -m spacy download pt_core_news_sm"
   ]
  },
  {
   "attachments": {},
   "cell_type": "markdown",
   "metadata": {},
   "source": [
    "### Load data"
   ]
  },
  {
   "cell_type": "code",
   "execution_count": 9,
   "metadata": {},
   "outputs": [
    {
     "name": "stderr",
     "output_type": "stream",
     "text": [
      "c:\\Users\\ioann\\anaconda3\\envs\\NLP\\lib\\site-packages\\IPython\\core\\interactiveshell.py:3170: DtypeWarning: Columns (22,42,52,53) have mixed types.Specify dtype option on import or set low_memory=False.\n",
      "  interactivity=interactivity, compiler=compiler, result=result)\n"
     ]
    },
    {
     "name": "stdout",
     "output_type": "stream",
     "text": [
      "Data loaded\n"
     ]
    }
   ],
   "source": [
    "# Load RAW data\n",
    "df = pd.read_csv('Data/_20220705-160526-PRT.txt', sep='\\t', encoding='utf-16')\n",
    "\n",
    "print('Data loaded')"
   ]
  },
  {
   "cell_type": "code",
   "execution_count": 10,
   "metadata": {},
   "outputs": [
    {
     "name": "stderr",
     "output_type": "stream",
     "text": [
      "100%|██████████| 90/90 [00:01<00:00, 62.70it/s]\n"
     ]
    }
   ],
   "source": [
    "values, types = [], []\n",
    "for column in tqdm(df.columns):\n",
    "    if ('ENG' in column): continue\n",
    "    data = df[column].tolist()\n",
    "\n",
    "    values += data\n",
    "    types += len(data)*[column]\n",
    "\n",
    "# Create DataFrame (value|type)\n",
    "df = pd.DataFrame({})\n",
    "df['value'] = values\n",
    "df['type'] = types"
   ]
  },
  {
   "attachments": {},
   "cell_type": "markdown",
   "metadata": {},
   "source": [
    "#### Preprocess"
   ]
  },
  {
   "cell_type": "code",
   "execution_count": 11,
   "metadata": {},
   "outputs": [],
   "source": [
    "CCVs = [\n",
    "'CCV:00002',\n",
    "'CCV:00003',\n",
    "# 'CCV:00004',\n",
    "'CCV:00005',\n",
    "'CCV:00008',\n",
    "# 'CCV:00011', Citizenship\n",
    "# 'CCV:00012', Nationality\n",
    "# 'CCV:00013', Sex\n",
    "# 'CCV:00014',\n",
    "'CCV:00022',\n",
    "'CCV:00023',\n",
    "# 'CCV:00025',\n",
    "'CCV:00026',\n",
    "'CCV:00028',\n",
    "'CCV:00029',\n",
    "'CCV:00030',\n",
    "'CCV:00034',\n",
    "# 'CCV:00035',\n",
    "# 'CCV:00036',\n",
    "# 'CCV:00038', Passport issuing country\n",
    "# 'CCV:00039', Passport issuing authority\n",
    "# 'CCV:00041',\n",
    "# 'CCV:00042',\n",
    "# 'CCV:00043',\n",
    "# 'CCV:00047',\n",
    "# 'CCV:00048',\n",
    "# 'CCV:00049',\n",
    "'CCV:00052',\n",
    "# 'CCV:00053',\n",
    "# 'CCV:00054',\n",
    "'CCV:00057',\n",
    "# 'CCV:00058',\n",
    "# 'CCV:00059',\n",
    "'CCV:00061',\n",
    "# 'CCV:00062',\n",
    "# 'CCV:00063',\n",
    "'CCV:00065',\n",
    "# 'CCV:00066',\n",
    "# 'CCV:00067',\n",
    "# 'CCV:00068', Tertiary school type: 'University', 'TechnicalSchool', 'PolytechnicSchool', 'MedicalSchool', 'TradeSchool'\n",
    "# 'CCV:00069',\n",
    "# 'CCV:00071',\n",
    "# 'CCV:00072',\n",
    "'CCV:00073',\n",
    "'CCV:00074',\n",
    "# 'CCV:00079',\n",
    "# 'CCV:00080', It is the same as CCV:00026\n",
    "# 'CCV:00081',\n",
    "# 'CCV:00082',\n",
    "# 'CCV:00083', Insurance status: 'Insured', 'Protected', 'Uninsured'\n",
    "# 'CCV:00084'\n",
    "]"
   ]
  },
  {
   "cell_type": "code",
   "execution_count": 12,
   "metadata": {},
   "outputs": [
    {
     "name": "stdout",
     "output_type": "stream",
     "text": [
      "Number of records:  278821\n"
     ]
    }
   ],
   "source": [
    "# Drop duplicates\n",
    "df = df.drop_duplicates()\n",
    "# Remove empty cells\n",
    "df = df[df['value'] != '-']\n",
    "# Select types\n",
    "df = df[df['type'].isin(CCVs)]\n",
    "# Convert CCV:00074-x to CCV:00074\n",
    "df['type'] = df['type'].apply(lambda x:'CCV:00074' if '00074' in x else x)\n",
    "# Reset index\n",
    "df = df.reset_index().drop(['index'], axis=1)\n",
    "print('Number of records: ', df.shape[0])"
   ]
  },
  {
   "cell_type": "code",
   "execution_count": 13,
   "metadata": {},
   "outputs": [
    {
     "name": "stderr",
     "output_type": "stream",
     "text": [
      "100%|██████████| 346/346 [00:23<00:00, 14.42it/s]\n"
     ]
    }
   ],
   "source": [
    "# Manually remove records, which belong to two categories \n",
    "# for example:\n",
    "# Abraão ['CCV:00002' 'CCV:00003']\n",
    "# Afonso ['CCV:00002' 'CCV:00003']\n",
    "# Alencar ['CCV:00002' 'CCV:00003']\n",
    "# ...\n",
    "df = df[ ~((df['value'] == 'Abraão') & (df['type'] == 'CCV:00003'))]\n",
    "df = df[ ~((df['value'] == 'Afonso') & (df['type'] == 'CCV:00003'))]\n",
    "df = df[ ~((df['value'] == 'Alencar') & (df['type'] == 'CCV:00003'))]\n",
    "df = df[ ~((df['value'] == 'Barcelos') & (df['type'] == 'CCV:00023'))]\n",
    "df = df[ ~((df['value'] == 'Barreiro') & (df['type'] == 'CCV:00023'))]\n",
    "df = df[ ~((df['value'] == 'Belarmino') & (df['type'] == 'CCV:00003'))]\n",
    "df = df[ ~((df['value'] == 'Braga') & (df['type'] == 'CCV:00023'))]\n",
    "df = df[ ~((df['value'] == 'Cantanhede') & (df['type'] == 'CCV:00023'))]\n",
    "df = df[ ~((df['value'] == 'Castelo Branco') & (df['type'] == 'CCV:00023'))]\n",
    "df = df[ ~((df['value'] == 'Chaves') & (df['type'] == 'CCV:00023'))]\n",
    "df = df[ ~((df['value'] == 'Coimbra') & (df['type'] == 'CCV:00023'))]\n",
    "df = df[ ~((df['value'] == 'Crispim') & (df['type'] == 'CCV:00003'))]\n",
    "df = df[ ~((df['value'] == 'Franco') & (df['type'] == 'CCV:00003'))]\n",
    "df = df[ ~((df['value'] == 'Gilberto') & (df['type'] == 'CCV:00003'))]\n",
    "df = df[ ~((df['value'] == 'Guimarães') & (df['type'] == 'CCV:00023'))]\n",
    "df = df[ ~((df['value'] == 'Hata') & (df['type'] == 'CCV:00003'))]\n",
    "df = df[ ~((df['value'] == 'Januário') & (df['type'] == 'CCV:00003'))]\n",
    "df = df[ ~((df['value'] == 'Jesus') & (df['type'] == 'CCV:00003'))]\n",
    "df = df[ ~((df['value'] == 'Kan') & (df['type'] == 'CCV:00003'))]\n",
    "df = df[ ~((df['value'] == 'Klinger') & (df['type'] == 'CCV:00003'))]\n",
    "df = df[ ~((df['value'] == 'Katsura') & (df['type'] == 'CCV:00003'))]\n",
    "df = df[ ~((df['value'] == 'Kuni') & (df['type'] == 'CCV:00003'))]\n",
    "df = df[ ~((df['value'] == 'Lineu') & (df['type'] == 'CCV:00003'))]\n",
    "df = df[ ~((df['value'] == 'Maia') & (df['type'] == 'CCV:00023'))]\n",
    "df = df[ ~((df['value'] == 'Micael') & (df['type'] == 'CCV:00003'))]\n",
    "df = df[ ~((df['value'] == 'Miki') & (df['type'] == 'CCV:00003'))]\n",
    "df = df[ ~((df['value'] == 'Minami') & (df['type'] == 'CCV:00003'))]\n",
    "df = df[ ~((df['value'] == 'Miranda') & (df['type'] == 'CCV:00003'))]\n",
    "df = df[ ~((df['value'] == 'Moura') & (df['type'] == 'CCV:00023'))]\n",
    "df = df[ ~((df['value'] == 'Onofre') & (df['type'] == 'CCV:00003'))]\n",
    "df = df[ ~((df['value'] == 'Paulino') & (df['type'] == 'CCV:00003'))]\n",
    "df = df[ ~((df['value'] == 'Romualdo') & (df['type'] == 'CCV:00003'))]\n",
    "df = df[ ~((df['value'] == 'Ronaldo') & (df['type'] == 'CCV:00003'))]\n",
    "df = df[ ~((df['value'] == 'Setúbal') & (df['type'] == 'CCV:00023'))]\n",
    "df = df[ ~((df['value'] == 'Silvestre') & (df['type'] == 'CCV:00003'))]\n",
    "df = df[ ~((df['value'] == 'Silvério') & (df['type'] == 'CCV:00003'))]\n",
    "df = df[ ~((df['value'] == 'Suga') & (df['type'] == 'CCV:00003'))]\n",
    "df = df[ ~((df['value'] == 'Takaki') & (df['type'] == 'CCV:00003'))]\n",
    "df = df[ ~((df['value'] == 'Takamine') & (df['type'] == 'CCV:00003'))]\n",
    "df = df[ ~((df['value'] == 'Tamaki') & (df['type'] == 'CCV:00003'))]\n",
    "df = df[ ~((df['value'] == 'Teruya') & (df['type'] == 'CCV:00003'))]\n",
    "df = df[ ~((df['value'] == 'Tokuhisa') & (df['type'] == 'CCV:00003'))]\n",
    "df = df[ ~((df['value'] == 'Uno') & (df['type'] == 'CCV:00003'))]\n",
    "df = df[ ~((df['value'] == 'Yui') & (df['type'] == 'CCV:00003'))]\n",
    "\n",
    "\n",
    "# Identify the value which may belong to two different categories ['CCV:00005', 'CCV:00008']\n",
    "tt = df.groupby('value').count().reset_index()\n",
    "for x in tqdm(tt[tt['type'] > 1]['value']):\n",
    "    df = df[ ~((df['value'] == x) & (df['type'] == 'CCV:00008'))]"
   ]
  },
  {
   "attachments": {},
   "cell_type": "markdown",
   "metadata": {},
   "source": [
    "### Create input/output ndarrays"
   ]
  },
  {
   "cell_type": "code",
   "execution_count": 7,
   "metadata": {},
   "outputs": [
    {
     "data": {
      "application/vnd.jupyter.widget-view+json": {
       "model_id": "8d65e349fd544101a975380383852690",
       "version_major": 2,
       "version_minor": 0
      },
      "text/plain": [
       "0it [00:00, ?it/s]"
      ]
     },
     "metadata": {},
     "output_type": "display_data"
    },
    {
     "data": {
      "application/vnd.jupyter.widget-view+json": {
       "model_id": "a1b320187af442389a169d75e6d93f39",
       "version_major": 2,
       "version_minor": 0
      },
      "text/plain": [
       "Progress:   0%|          | 0/278431 [00:00<?, ?it/s]"
      ]
     },
     "metadata": {},
     "output_type": "display_data"
    }
   ],
   "source": [
    "from tqdm.notebook import tqdm_notebook\n",
    "tqdm_notebook().pandas(desc=\"Progress\")\n",
    "\n",
    "\n",
    "nlp = spacy.load(\"pt_core_news_sm\")\n",
    "\n",
    "X = np.array( df['value'].progress_apply(lambda x: list(nlp(x).vector)).to_list() )\n",
    "\n",
    "np.savez('Data/data.npz', X=X, y=df['type'].to_numpy())"
   ]
  }
 ],
 "metadata": {
  "kernelspec": {
   "display_name": "ML",
   "language": "python",
   "name": "python3"
  },
  "language_info": {
   "codemirror_mode": {
    "name": "ipython",
    "version": 3
   },
   "file_extension": ".py",
   "mimetype": "text/x-python",
   "name": "python",
   "nbconvert_exporter": "python",
   "pygments_lexer": "ipython3",
   "version": "3.7.10"
  },
  "orig_nbformat": 4
 },
 "nbformat": 4,
 "nbformat_minor": 2
}

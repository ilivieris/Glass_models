{
 "cells": [
  {
   "cell_type": "code",
   "execution_count": null,
   "metadata": {},
   "outputs": [],
   "source": [
    "import pandas as pd\n",
    "import numpy as np\n",
    "from tqdm import tqdm\n",
    "\n",
    "from utils.hard_rules import hard_rules"
   ]
  },
  {
   "attachments": {},
   "cell_type": "markdown",
   "metadata": {},
   "source": [
    "### Load data"
   ]
  },
  {
   "cell_type": "code",
   "execution_count": null,
   "metadata": {},
   "outputs": [],
   "source": [
    "# # Import data\n",
    "# df = pd.read_csv('Data/_20230622-132905_training.tsv', sep='\\t', header=None)\n",
    "\n",
    "# # Rename columns\n",
    "# df.rename(columns = {0: 'Value',\n",
    "#                      1: 'Evidence_type',\n",
    "#                      2: 'CCV'}, \n",
    "#           inplace = True)\n",
    "\n",
    "# # Remove ENG instances\n",
    "# ENG_ccvs = [ccv for ccv in df['CCV'].unique() if 'ENG' in ccv]\n",
    "# df = df[ ~df['CCV'].isin(ENG_ccvs) ]\n",
    "\n",
    "# # Remove duplicates\n",
    "# df.drop_duplicates(inplace=True)\n",
    "\n",
    "# df = df.reset_index().drop('index', axis=1)"
   ]
  },
  {
   "cell_type": "code",
   "execution_count": null,
   "metadata": {},
   "outputs": [],
   "source": [
    "# Import data\n",
    "df = pd.read_csv('Data/_20230622-132905_training.tsv', sep='\\t', header=None)\n",
    "\n",
    "# Rename columns\n",
    "df.rename(columns = {0: 'Value',\n",
    "                     1: 'Evidence_type',\n",
    "                     2: 'CCV'}, \n",
    "          inplace = True)\n",
    "\n",
    "\n",
    "# Remove duplicates\n",
    "df.drop_duplicates(inplace=True)\n",
    "\n",
    "# Selected CCVs, which can be handled with hard-rules\n",
    "selected_CCVs = ['CCV:00004', 'CCV:00012', 'CCV:00013', 'CCV:00014', \n",
    "                 'CCV:00071', 'CCV:00072', 'CCV:00073', 'CCV:00084', \n",
    "                 'CCV:00094', 'CCV:00034', 'CCV:00035', 'CCV:00036', 'CCV:00100',\n",
    "                 'CCV:00042', 'CCV:00043', 'CCV:00047', 'CCV:00048', \n",
    "                 'CCV:00066', 'CCV:00067', 'CCV:00068', 'CCV:00069', \n",
    "                 'CCV:00083', 'CCV:00028', 'CCV:00029', 'CCV:00079', \n",
    "                 'CCV:00080', 'CCV:00081', 'CCV:00082', 'CCV:00085', \n",
    "                 'CCV:00087', 'CCV:00088', 'CCV:00089', 'CCV:00090', \n",
    "                 'CCV:00092', 'CCV:00093', 'CCV:00038', 'CCV:00022', \n",
    "                 'CCV:00025', 'CCV:00026', 'CCV:00041', 'CCV:00053', \n",
    "                 'CCV:00054', 'CCV:00049', 'CCV:00057', 'CCV:00058', \n",
    "                 'CCV:00059', 'CCV:00061', 'CCV:00062', 'CCV:00063',\n",
    "                 'CCV:00096', 'CCV:00097', 'CCV:00098', 'CCV:00099']\n",
    "\n",
    "df = df[ df['CCV'].isin(selected_CCVs) ]\n",
    "\n",
    "df = df.reset_index().drop('index', axis=1)\n"
   ]
  },
  {
   "attachments": {},
   "cell_type": "markdown",
   "metadata": {},
   "source": [
    "### Preprocess"
   ]
  },
  {
   "cell_type": "code",
   "execution_count": null,
   "metadata": {},
   "outputs": [],
   "source": [
    "# Cannot be classified: 'CCV:00004', 'CCV:00025', 'CCV:00028', 'CCV:00029', 'CCV:00035', 'CCV:00036', 'CCV:00042', 'CCV:00043'\n",
    "# 'CCV:00047', 'CCV:00048', 'CCV:00049', CCV:00072, 'CCV:00084', 'CCV:00087', 'CCV:00088',\n",
    "# 'CCV:00079', 'CCV:00082', 'CCV:00092', 'CCV:00093', 'CCV:00096'"
   ]
  },
  {
   "cell_type": "code",
   "execution_count": 106,
   "metadata": {},
   "outputs": [
    {
     "name": "stderr",
     "output_type": "stream",
     "text": [
      "100%|██████████| 11657170/11657170 [07:45<00:00, 25031.17it/s]\n"
     ]
    }
   ],
   "source": [
    "from tqdm import tqdm\n",
    "\n",
    "for i in tqdm( range(df.shape[0]) ):\n",
    "    text = df['Value'].iloc[i]\n",
    "    Evidence_type = df['Evidence_type'].iloc[i]\n",
    "    CCV = df['CCV'].iloc[i]\n",
    "\n",
    "    if CCV in ['CCV:00004', 'CCV:00025', 'CCV:00035', 'CCV:00036', 'CCV:00042', 'CCV:00043',\n",
    "    'CCV:00047', 'CCV:00048', 'CCV:00049', 'CCV:00072', 'CCV:00084', 'CCV:00087', 'CCV:00088',\n",
    "    'CCV:00079', 'CCV:00082', 'CCV:00092', 'CCV:00093', 'CCV:00096']: continue\n",
    "\n",
    "        \n",
    "    pred = hard_rules_GR(text, Evidence_type)\n",
    "\n",
    "    if CCV in ['CCV:00008', 'CCV:00005', 'CCV:00003', 'CCV:00052', 'CCV:00065', 'CCV:00002', 'CCV:00011', 'CCV:00030']:\n",
    "        if pred == None:\n",
    "            continue\n",
    "        else:\n",
    "            print('(1)', i, text, Evidence_type, pred, CCV)\n",
    "            break\n",
    "\n",
    "    if pred != CCV:\n",
    "        print('(2)', i, text, Evidence_type, pred, CCV)\n",
    "        break\n",
    "    "
   ]
  }
 ],
 "metadata": {
  "kernelspec": {
   "display_name": "ML",
   "language": "python",
   "name": "python3"
  },
  "language_info": {
   "codemirror_mode": {
    "name": "ipython",
    "version": 3
   },
   "file_extension": ".py",
   "mimetype": "text/x-python",
   "name": "python",
   "nbconvert_exporter": "python",
   "pygments_lexer": "ipython3",
   "version": "3.7.10"
  },
  "orig_nbformat": 4
 },
 "nbformat": 4,
 "nbformat_minor": 2
}

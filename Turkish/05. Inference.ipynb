{
 "cells": [
  {
   "cell_type": "code",
   "execution_count": null,
   "metadata": {},
   "outputs": [],
   "source": [
    "import pickle\n",
    "import spacy\n",
    "import spacyturk\n",
    "\n",
    "# downloads the spaCyTurk model\n",
    "# spacyturk.download(\"tr_floret_web_md\")"
   ]
  },
  {
   "cell_type": "code",
   "execution_count": null,
   "metadata": {},
   "outputs": [],
   "source": [
    "# Load Label encoder\n",
    "encoder = pickle.load(open('Model/Label_encoder.pkl', 'rb'))\n",
    "# Load prediction model\n",
    "model = pickle.load(open('Model/model.pkl', 'rb'))\n",
    "# Load spacy model\n",
    "nlp = spacy.load(\"tr_floret_web_md\")"
   ]
  },
  {
   "cell_type": "code",
   "execution_count": null,
   "metadata": {},
   "outputs": [],
   "source": [
    "def inference(text):\n",
    "    # Get embeddings\n",
    "    embeddings = nlp(text).vector\n",
    "    # Get model's prediction\n",
    "    pred = model.predict( embeddings.reshape(1,-1) )\n",
    "    # Return class\n",
    "    return encoder.inverse_transform(pred)\n",
    "\n",
    "\n",
    "inference('Gülen')"
   ]
  },
  {
   "cell_type": "code",
   "execution_count": null,
   "metadata": {},
   "outputs": [],
   "source": []
  }
 ],
 "metadata": {
  "kernelspec": {
   "display_name": "NLP",
   "language": "python",
   "name": "python3"
  },
  "language_info": {
   "codemirror_mode": {
    "name": "ipython",
    "version": 3
   },
   "file_extension": ".py",
   "mimetype": "text/x-python",
   "name": "python",
   "nbconvert_exporter": "python",
   "pygments_lexer": "ipython3",
   "version": "3.7.10"
  },
  "orig_nbformat": 4
 },
 "nbformat": 4,
 "nbformat_minor": 2
}

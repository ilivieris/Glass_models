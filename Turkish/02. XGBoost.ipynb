{
 "cells": [
  {
   "attachments": {},
   "cell_type": "markdown",
   "metadata": {},
   "source": [
    "# Import libraries"
   ]
  },
  {
   "cell_type": "code",
   "execution_count": 5,
   "metadata": {},
   "outputs": [],
   "source": [
    "import warnings\n",
    "warnings.filterwarnings( 'ignore' )\n",
    "# Basic libraries\n",
    "import os\n",
    "import pickle\n",
    "import numpy    as np\n",
    "import pandas   as pd\n",
    "# Optuna library\n",
    "import optuna\n",
    "# XGBoost\n",
    "import xgboost\n",
    "# User libraries\n",
    "from utils.Logger import *\n",
    "from utils.utils import *\n",
    "from utils.mlflow_logging import MLflow_log_performance\n",
    "from utils.utils import copyDirTree"
   ]
  },
  {
   "attachments": {},
   "cell_type": "markdown",
   "metadata": {},
   "source": [
    "# Parameters"
   ]
  },
  {
   "cell_type": "code",
   "execution_count": 6,
   "metadata": {},
   "outputs": [],
   "source": [
    "# Number of Optuna trials \n",
    "n_trials = 10\n",
    "# Seed\n",
    "seed = 42 \n",
    "# Create logger\n",
    "VERBOSE = True \n",
    "# Number of splits for Stratified Cross-Validation\n",
    "n_splits = 5\n",
    "# Hold-out percentage\n",
    "test_size = 0.2\n",
    "\n",
    "# Create temp directory for storing output figures\n",
    "if not os.path.isdir('Performance'): os.mkdir('Performance')"
   ]
  },
  {
   "cell_type": "code",
   "execution_count": 7,
   "metadata": {},
   "outputs": [],
   "source": [
    "# Initiate logger\n",
    "if VERBOSE:\n",
    "    logger = init_logger(log_file = 'logs.log') "
   ]
  },
  {
   "attachments": {},
   "cell_type": "markdown",
   "metadata": {},
   "source": [
    "# Data"
   ]
  },
  {
   "cell_type": "code",
   "execution_count": 8,
   "metadata": {},
   "outputs": [
    {
     "data": {
      "image/png": "[encoded data removed]",
      "text/plain": [
       "<Figure size 640x480 with 1 Axes>"
      ]
     },
     "metadata": {},
     "output_type": "display_data"
    }
   ],
   "source": [
    "# Load data\n",
    "X = np.load('Data/data.npz', allow_pickle=True)['X']\n",
    "y = np.load('Data/data.npz', allow_pickle=True)['y']\n",
    "if VERBOSE:\n",
    "    logger.info('Data loaded')\n",
    "\n",
    "\n",
    "# Split data (training/hold-out set)\n",
    "from sklearn.model_selection import train_test_split\n",
    "trainX, testX, trainY, testY = train_test_split(X, y, test_size=test_size, stratify=y, random_state=seed)\n",
    "if VERBOSE:\n",
    "    logger.info('Hold-out set is obtained')\n",
    "\n",
    "\n",
    "# Class visualization\n",
    "import matplotlib.pyplot as plt\n",
    "plt.hist(trainY);\n",
    "plt.hist(testY);\n",
    "plt.xticks(rotation=45);\n",
    "\n",
    "\n",
    "# Label encoding for targe class\n",
    "from sklearn.preprocessing import LabelEncoder\n",
    "le = LabelEncoder()\n",
    "trainY = le.fit_transform(trainY)\n",
    "testY = le.transform(testY)\n",
    "pickle.dump(le, open('label_encoder.sav', 'wb'))\n",
    "# Get classes/labels\n",
    "labels = list(le.classes_)\n",
    "if VERBOSE:\n",
    "    logger.info('Label encoding of target variable is performed')"
   ]
  },
  {
   "attachments": {},
   "cell_type": "markdown",
   "metadata": {},
   "source": [
    "# Hyperparameter optimization"
   ]
  },
  {
   "cell_type": "code",
   "execution_count": 9,
   "metadata": {},
   "outputs": [
    {
     "name": "stderr",
     "output_type": "stream",
     "text": [
      "2023/05/04 23:23:26 INFO mlflow.tracking.fluent: Experiment with name 'UC:TU|Model:XGBoost' does not exist. Creating a new experiment.\n"
     ]
    }
   ],
   "source": [
    "# Initiate mlflow server\n",
    "# Command: mlflow server --backend-store-uri sqlite:///mlflow.db --default-artifact-root ./artifacts --host 127.0.0.1 --port 5000\n",
    "# \n",
    "import mlflow\n",
    "mlflow.set_tracking_uri(\"http://127.0.0.1:5000/\")\n",
    "mlflow.set_experiment(\"UC:TU|Model:XGBoost\")\n",
    "\n",
    "if VERBOSE:\n",
    "    logger.info('MLFlow server is connected')"
   ]
  },
  {
   "attachments": {},
   "cell_type": "markdown",
   "metadata": {},
   "source": [
    "## Prediction model"
   ]
  },
  {
   "cell_type": "code",
   "execution_count": 10,
   "metadata": {},
   "outputs": [],
   "source": [
    "def objective(trial: optuna.trial.Trial) -> float: \n",
    "    # Logger\n",
    "    if VERBOSE:\n",
    "        logger.info(f'Trail: {trial.number} started [{trial.datetime_start}]')\n",
    "\n",
    "    # Parameters\n",
    "    params = {\n",
    "        'n_estimators'      : trial.suggest_categorical('n_estimators', [300, 500]),\n",
    "        'learning_rate'     : trial.suggest_categorical('learning_rate' , [1e-2, 5e-2, 1e-1]),\n",
    "        'max_depth'         : trial.suggest_int('max_depth', 3, 6),\n",
    "        'reg_alpha'         : 20, #trial.suggest_categorical('reg_alpha', [10, 20, 30]),\n",
    "        'reg_lambda'        : 1.0, #trial.suggest_loguniform('reg_lambda', 0, 1),\n",
    "        'gamma'             : 1, #trial.suggest_loguniform('gamma', 1 , 9),\n",
    "        'min_child_weight'  : 2, #trial.suggest_int('min_child_weight', 2, 4),\n",
    "        'max_leaves'        : 2, #trial.suggest_int('max_leaves', 2, 5),\n",
    "    }\n",
    "\n",
    "\n",
    "    # Setup model\n",
    "    model = xgboost.XGBClassifier(objective           = 'multi:softmax',  \n",
    "                                  n_jobs              = -1,                                   \n",
    "                                  validate_parameters = True, \n",
    "                                  verbosity           = 1,\n",
    "                                  tree_method         = 'hist',\n",
    "                                  **params)\n",
    "    \n",
    "    # Cross-Validation\n",
    "    train_CV_results, test_CV_results, CM_cv = cross_validation(model=model, X=trainX, Y=trainY, n_splits=n_splits, seed=seed, VERBOSE=VERBOSE)\n",
    "\n",
    "    # Single-run \n",
    "    model, train_results, test_results, CM, predictions = single_run(model=model, trainX=trainX, trainY=trainY, testX=testX, testY=testY, VERBOSE=VERBOSE)\n",
    "\n",
    "         \n",
    "    if VERBOSE:\n",
    "        logger.info(f'Trail: {trial.number} completed')\n",
    "\n",
    "    # Include model signature\n",
    "    signature = mlflow.models.infer_signature(testX, predictions)\n",
    "    # Log performance to MLflow \n",
    "    MLflow_log_performance(trial.number, model, labels,\n",
    "                           train_CV_results, test_CV_results, CM_cv, \n",
    "                           train_results, test_results, CM,\n",
    "                           signature, params)\n",
    "\n",
    "    # Copy artifacts\n",
    "    copyDirTree('./artifacts', '../artifacts')\n",
    "    \n",
    "    if VERBOSE:\n",
    "        logger.info(f'Trail: {trial.number} Performance metrics & model logged')\n",
    "\n",
    "    return np.mean(test_CV_results['AUC'])"
   ]
  },
  {
   "attachments": {},
   "cell_type": "markdown",
   "metadata": {},
   "source": [
    "## Hyperparameter optimization process"
   ]
  },
  {
   "cell_type": "code",
   "execution_count": 11,
   "metadata": {},
   "outputs": [
    {
     "name": "stderr",
     "output_type": "stream",
     "text": [
      "\u001b[32m[I 2023-05-04 23:23:27,701]\u001b[0m A new study created in memory with name: no-name-fad0c71f-2efe-4590-b8f1-a2cbee679e5e\u001b[0m\n",
      "\u001b[32m[I 2023-05-04 23:23:38,978]\u001b[0m Trial 0 finished with value: 0.6827924532781415 and parameters: {'n_estimators': 8, 'learning_rate': 0.01, 'max_depth': 3}. Best is trial 0 with value: 0.6827924532781415.\u001b[0m\n",
      "\u001b[32m[I 2023-05-04 23:23:49,332]\u001b[0m Trial 1 finished with value: 0.7299141880642036 and parameters: {'n_estimators': 8, 'learning_rate': 0.05, 'max_depth': 6}. Best is trial 1 with value: 0.7299141880642036.\u001b[0m\n",
      "\u001b[32m[I 2023-05-04 23:23:58,364]\u001b[0m Trial 2 finished with value: 0.7383536880362709 and parameters: {'n_estimators': 5, 'learning_rate': 0.1, 'max_depth': 5}. Best is trial 2 with value: 0.7383536880362709.\u001b[0m\n",
      "\u001b[32m[I 2023-05-04 23:24:07,266]\u001b[0m Trial 3 finished with value: 0.6792002917282739 and parameters: {'n_estimators': 5, 'learning_rate': 0.01, 'max_depth': 4}. Best is trial 2 with value: 0.7383536880362709.\u001b[0m\n",
      "\u001b[32m[I 2023-05-04 23:24:18,072]\u001b[0m Trial 4 finished with value: 0.7550550011614796 and parameters: {'n_estimators': 8, 'learning_rate': 0.1, 'max_depth': 3}. Best is trial 4 with value: 0.7550550011614796.\u001b[0m\n",
      "\u001b[32m[I 2023-05-04 23:24:27,524]\u001b[0m Trial 5 finished with value: 0.7383536880362709 and parameters: {'n_estimators': 5, 'learning_rate': 0.1, 'max_depth': 6}. Best is trial 4 with value: 0.7550550011614796.\u001b[0m\n",
      "\u001b[32m[I 2023-05-04 23:24:37,158]\u001b[0m Trial 6 finished with value: 0.6792002917282739 and parameters: {'n_estimators': 5, 'learning_rate': 0.01, 'max_depth': 4}. Best is trial 4 with value: 0.7550550011614796.\u001b[0m\n"
     ]
    }
   ],
   "source": [
    "study = optuna.create_study(direction='maximize',\n",
    "                            sampler=optuna.samplers.TPESampler(seed = seed),\n",
    "                           )\n",
    "\n",
    "study.optimize(func=objective, \n",
    "               n_trials=n_trials, \n",
    "               n_jobs=1,)"
   ]
  },
  {
   "cell_type": "code",
   "execution_count": null,
   "metadata": {},
   "outputs": [],
   "source": [
    "# Delete temp directory\n",
    "import shutil\n",
    "shutil.rmtree('Performance')\n",
    "shutil.rmtree('artifacts')"
   ]
  },
  {
   "attachments": {},
   "cell_type": "markdown",
   "metadata": {},
   "source": [
    "### Visualization of the learning curves of the trials\n"
   ]
  },
  {
   "cell_type": "code",
   "execution_count": null,
   "metadata": {
    "tags": []
   },
   "outputs": [],
   "source": [
    "optuna.visualization.plot_optimization_history(study)"
   ]
  },
  {
   "attachments": {},
   "cell_type": "markdown",
   "metadata": {},
   "source": [
    "### Visualization of hyperparameter relationships\n"
   ]
  },
  {
   "cell_type": "code",
   "execution_count": null,
   "metadata": {},
   "outputs": [],
   "source": [
    "optuna.visualization.plot_parallel_coordinate(study, params=[params for params in study.best_params])"
   ]
  },
  {
   "attachments": {},
   "cell_type": "markdown",
   "metadata": {},
   "source": [
    "### Hyperparameter importances\n"
   ]
  },
  {
   "cell_type": "code",
   "execution_count": null,
   "metadata": {},
   "outputs": [],
   "source": [
    "optuna.visualization.plot_param_importances(study, \n",
    "                                            target      = lambda t: t.duration.total_seconds(), \n",
    "                                            target_name = \"duration\")"
   ]
  },
  {
   "attachments": {},
   "cell_type": "markdown",
   "metadata": {},
   "source": [
    "### Get optimized hyperparameters"
   ]
  },
  {
   "cell_type": "code",
   "execution_count": null,
   "metadata": {},
   "outputs": [],
   "source": [
    "print('[INFO] Optimized hyperparameters\\n')\n",
    "for (parameter,value) in study.best_params.items():\n",
    "    if ( isinstance(value, float) ):\n",
    "        print(' >%25s: %.3f' % (parameter,value))\n",
    "    else:\n",
    "        print(' >%25s: %s' % (parameter,value))"
   ]
  }
 ],
 "metadata": {
  "kernelspec": {
   "display_name": "tensorflow",
   "language": "python",
   "name": "python3"
  },
  "language_info": {
   "codemirror_mode": {
    "name": "ipython",
    "version": 3
   },
   "file_extension": ".py",
   "mimetype": "text/x-python",
   "name": "python",
   "nbconvert_exporter": "python",
   "pygments_lexer": "ipython3",
   "version": "3.8.16"
  },
  "toc": {
   "base_numbering": 1,
   "nav_menu": {},
   "number_sections": true,
   "sideBar": true,
   "skip_h1_title": false,
   "title_cell": "Table of Contents",
   "title_sidebar": "Contents",
   "toc_cell": false,
   "toc_position": {},
   "toc_section_display": true,
   "toc_window_display": true
  },
  "varInspector": {
   "cols": {
    "lenName": 16,
    "lenType": 16,
    "lenVar": 40
   },
   "kernels_config": {
    "python": {
     "delete_cmd_postfix": "",
     "delete_cmd_prefix": "del ",
     "library": "var_list.py",
     "varRefreshCmd": "print(var_dic_list())"
    },
    "r": {
     "delete_cmd_postfix": ") ",
     "delete_cmd_prefix": "rm(",
     "library": "var_list.r",
     "varRefreshCmd": "cat(var_dic_list()) "
    }
   },
   "types_to_exclude": [
    "module",
    "function",
    "builtin_function_or_method",
    "instance",
    "_Feature"
   ],
   "window_display": false
  }
 },
 "nbformat": 4,
 "nbformat_minor": 4
}

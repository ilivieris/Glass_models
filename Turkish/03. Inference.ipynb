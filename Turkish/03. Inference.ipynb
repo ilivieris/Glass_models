{
 "cells": [
  {
   "cell_type": "code",
   "execution_count": null,
   "metadata": {},
   "outputs": [],
   "source": [
    "import pickle\n",
    "# Load the model using spaCy\n",
    "import spacy\n",
    "import spacyturk\n",
    "\n",
    "\n",
    "# downloads the spaCyTurk model\n",
    "# spacyturk.download(\"tr_floret_web_md\")"
   ]
  },
  {
   "cell_type": "code",
   "execution_count": null,
   "metadata": {},
   "outputs": [],
   "source": [
    "# Load Label encoder\n",
    "encoder = pickle.load(open('label_encoder.sav', 'rb'))\n",
    "# Load prediction model\n",
    "model = pickle.load(open('../artifacts/3/412c4b9e62e547898c7f338da560fd48/artifacts/models/model.pkl', 'rb'))\n",
    "# Load spacy model\n",
    "nlp = spacy.load(\"tr_floret_web_md\")"
   ]
  },
  {
   "cell_type": "code",
   "execution_count": null,
   "metadata": {},
   "outputs": [],
   "source": [
    "def inference(text):\n",
    "    # Get embeddings\n",
    "    embeddings = nlp(text).vector\n",
    "    # Get model's prediction\n",
    "    pred = model.predict( embeddings.reshape(1,-1) )\n",
    "    # Return class\n",
    "    return encoder.inverse_transform(pred)\n",
    "\n",
    "\n",
    "inference('Gülen')"
   ]
  }
 ],
 "metadata": {
  "kernelspec": {
   "display_name": "NLP",
   "language": "python",
   "name": "python3"
  },
  "language_info": {
   "codemirror_mode": {
    "name": "ipython",
    "version": 3
   },
   "file_extension": ".py",
   "mimetype": "text/x-python",
   "name": "python",
   "nbconvert_exporter": "python",
   "pygments_lexer": "ipython3",
   "version": "3.8.16"
  },
  "orig_nbformat": 4
 },
 "nbformat": 4,
 "nbformat_minor": 2
}

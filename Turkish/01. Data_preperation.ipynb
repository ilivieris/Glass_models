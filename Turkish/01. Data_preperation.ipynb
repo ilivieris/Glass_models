{
 "cells": [
  {
   "cell_type": "code",
   "execution_count": 1,
   "metadata": {},
   "outputs": [
    {
     "name": "stderr",
     "output_type": "stream",
     "text": [
      "c:\\Users\\ioann\\anaconda3\\envs\\NLP\\lib\\site-packages\\torch\\cuda\\__init__.py:52: UserWarning: CUDA initialization: Found no NVIDIA driver on your system. Please check that you have an NVIDIA GPU and installed a driver from http://www.nvidia.com/Download/index.aspx (Triggered internally at  ..\\c10\\cuda\\CUDAFunctions.cpp:100.)\n",
      "  return torch._C._cuda_getDeviceCount() > 0\n"
     ]
    },
    {
     "name": "stdout",
     "output_type": "stream",
     "text": [
      "\u001b[1m\n",
      "============================ Info about spaCyTurk ============================\u001b[0m\n",
      "\n",
      "spaCyTurk version   0.1.0                         \n",
      "Location            c:\\Users\\ioann\\Repositories\\Glass_models\\Turkish\\spacyturk\n",
      "Platform            Windows-10-10.0.22621-SP0     \n",
      "spaCy version       3.2.4                         \n",
      "Python version      3.7.10                        \n",
      "spaCyTurk models    tr_floret_web_md (3.2.0)      \n",
      "\n"
     ]
    }
   ],
   "source": [
    "# https://github.com/spacyturk/spacyturk\n",
    "import spacyturk\n",
    "import pandas as pd\n",
    "import numpy as np\n",
    "from tqdm import tqdm\n",
    "\n",
    "# downloads the spaCyTurk model\n",
    "spacyturk.download(\"tr_floret_web_md\")\n",
    "\n",
    "# info about spaCyTurk installation and models\n",
    "spacyturk.info()"
   ]
  },
  {
   "attachments": {},
   "cell_type": "markdown",
   "metadata": {},
   "source": [
    "### Load data"
   ]
  },
  {
   "cell_type": "code",
   "execution_count": 2,
   "metadata": {},
   "outputs": [
    {
     "name": "stdout",
     "output_type": "stream",
     "text": [
      "Data loaded\n"
     ]
    },
    {
     "name": "stderr",
     "output_type": "stream",
     "text": [
      "c:\\Users\\ioann\\anaconda3\\envs\\NLP\\lib\\site-packages\\IPython\\core\\interactiveshell.py:3170: DtypeWarning: Columns (17,22,42,45,46,47,48,49,52,53,56,57) have mixed types.Specify dtype option on import or set low_memory=False.\n",
      "  interactivity=interactivity, compiler=compiler, result=result)\n"
     ]
    }
   ],
   "source": [
    "# Load RAW data\n",
    "df = pd.read_csv('Data/_20220705-155847-TUR.txt', sep='\\t', encoding='utf-16')\n",
    "\n",
    "print('Data loaded')"
   ]
  },
  {
   "cell_type": "code",
   "execution_count": 3,
   "metadata": {},
   "outputs": [
    {
     "name": "stderr",
     "output_type": "stream",
     "text": [
      "100%|██████████| 90/90 [00:00<00:00, 267.87it/s]\n"
     ]
    }
   ],
   "source": [
    "values, types = [], []\n",
    "for column in tqdm(df.columns):\n",
    "    if ('ENG' in column): continue\n",
    "    data = df[column].tolist()\n",
    "\n",
    "    values += data\n",
    "    types += len(data)*[column]\n",
    "\n",
    "# Create DataFrame (value|type)\n",
    "df = pd.DataFrame({})\n",
    "df['value'] = values\n",
    "df['type'] = types"
   ]
  },
  {
   "attachments": {},
   "cell_type": "markdown",
   "metadata": {},
   "source": [
    "#### Preprocess"
   ]
  },
  {
   "cell_type": "code",
   "execution_count": 4,
   "metadata": {},
   "outputs": [],
   "source": [
    "CCVs = [\n",
    "'CCV:00002',\n",
    "'CCV:00003',\n",
    "# 'CCV:00004',\n",
    "'CCV:00005',\n",
    "'CCV:00008',\n",
    "# 'CCV:00011', Citizenship\n",
    "# 'CCV:00012', Nationality\n",
    "# 'CCV:00013', Sex\n",
    "# 'CCV:00014',\n",
    "'CCV:00022',\n",
    "'CCV:00023',\n",
    "# 'CCV:00025',\n",
    "'CCV:00026',\n",
    "'CCV:00028',\n",
    "'CCV:00029',\n",
    "'CCV:00030',\n",
    "'CCV:00034',\n",
    "# 'CCV:00035',\n",
    "# 'CCV:00036',\n",
    "# 'CCV:00038', Passport issuing country\n",
    "# 'CCV:00039', Passport issuing authority\n",
    "# 'CCV:00041',\n",
    "# 'CCV:00042',\n",
    "# 'CCV:00043',\n",
    "# 'CCV:00047',\n",
    "# 'CCV:00048',\n",
    "# 'CCV:00049',\n",
    "'CCV:00052',\n",
    "# 'CCV:00053',\n",
    "# 'CCV:00054',\n",
    "'CCV:00057',\n",
    "# 'CCV:00058',\n",
    "# 'CCV:00059',\n",
    "'CCV:00061',\n",
    "# 'CCV:00062',\n",
    "# 'CCV:00063',\n",
    "'CCV:00065',\n",
    "# 'CCV:00066',\n",
    "# 'CCV:00067',\n",
    "# 'CCV:00068', Tertiary school type: 'University', 'TechnicalSchool', 'PolytechnicSchool', 'MedicalSchool', 'TradeSchool'\n",
    "# 'CCV:00069',\n",
    "# 'CCV:00071',\n",
    "# 'CCV:00072',\n",
    "'CCV:00073',\n",
    "'CCV:00074',\n",
    "# 'CCV:00079',\n",
    "# 'CCV:00080', It is the same as CCV:00026\n",
    "# 'CCV:00081',\n",
    "# 'CCV:00082',\n",
    "# 'CCV:00083', Insurance status: 'Insured', 'Protected', 'Uninsured'\n",
    "# 'CCV:00084'\n",
    "]"
   ]
  },
  {
   "cell_type": "code",
   "execution_count": 5,
   "metadata": {},
   "outputs": [
    {
     "name": "stdout",
     "output_type": "stream",
     "text": [
      "Number of records:  291033\n"
     ]
    }
   ],
   "source": [
    "# Drop duplicates\n",
    "df = df.drop_duplicates()\n",
    "# Remove empty cells\n",
    "df = df[df['value'] != '-']\n",
    "# Select types\n",
    "df = df[df['type'].isin(CCVs)]\n",
    "# Convert CCV:00074-x to CCV:00074\n",
    "df['type'] = df['type'].apply(lambda x:'CCV:00074' if '00074' in x else x)\n",
    "# Reset index\n",
    "df = df.reset_index().drop(['index'], axis=1)\n",
    "print('Number of records: ', df.shape[0])"
   ]
  },
  {
   "cell_type": "code",
   "execution_count": 7,
   "metadata": {},
   "outputs": [
    {
     "name": "stderr",
     "output_type": "stream",
     "text": [
      "100%|██████████| 2042/2042 [02:38<00:00, 12.85it/s]\n"
     ]
    }
   ],
   "source": [
    "# Identify the value which may belong to two different categories\n",
    "tt = df.groupby('value').count().reset_index()\n",
    "\n",
    "\n",
    "for x in tqdm(tt[tt['type'] > 1]['value']):\n",
    "\n",
    "    Categories = list(df[df['value'] == x]['type'].unique())\n",
    "    if   Categories == ['CCV:00005', 'CCV:00008']:\n",
    "        df = df[~((df['value'] == x) & (df['type'] == 'CCV:00005'))]\n",
    "        df = df[~((df['value'] == x) & (df['type'] == 'CCV:00008'))]\n",
    "    elif Categories == ['CCV:00002', 'CCV:00023']:\n",
    "        df = df[~((df['value'] == x) & (df['type'] == 'CCV:00023'))]   \n",
    "    elif Categories == ['CCV:00003', 'CCV:00023']:\n",
    "        df = df[~((df['value'] == x) & (df['type'] == 'CCV:00023'))]   \n",
    "    elif Categories == ['CCV:00002', 'CCV:00003']:\n",
    "        df = df[~((df['value'] == x) & (df['type'] == 'CCV:00003'))]\n",
    "    elif Categories == ['CCV:00002', 'CCV:00003', 'CCV:00023']: # Only 2 cases\n",
    "        df = df[~((df['value'] == x) & (df['type'] == 'CCV:00003'))] \n",
    "        df = df[~((df['value'] == x) & (df['type'] == 'CCV:00023'))]        "
   ]
  },
  {
   "attachments": {},
   "cell_type": "markdown",
   "metadata": {},
   "source": [
    "### Create input/output ndarrays"
   ]
  },
  {
   "cell_type": "code",
   "execution_count": 55,
   "metadata": {},
   "outputs": [
    {
     "data": {
      "application/vnd.jupyter.widget-view+json": {
       "model_id": "7ae4222388b049a7942e0f3e9e3e41c1",
       "version_major": 2,
       "version_minor": 0
      },
      "text/plain": [
       "0it [00:00, ?it/s]"
      ]
     },
     "metadata": {},
     "output_type": "display_data"
    },
    {
     "data": {
      "application/vnd.jupyter.widget-view+json": {
       "model_id": "def70036d7b54f6e81bfe4934d37d4ed",
       "version_major": 2,
       "version_minor": 0
      },
      "text/plain": [
       "Progress:   0%|          | 0/287224 [00:00<?, ?it/s]"
      ]
     },
     "metadata": {},
     "output_type": "display_data"
    }
   ],
   "source": [
    "from tqdm.notebook import tqdm_notebook\n",
    "tqdm_notebook().pandas(desc=\"Progress\")\n",
    "\n",
    "# Load the model using spaCy\n",
    "import spacy\n",
    "nlp = spacy.load(\"tr_floret_web_md\")\n",
    "\n",
    "def convert(x):\n",
    "    try:\n",
    "        return nlp(x).vector\n",
    "    except:\n",
    "        return 300*[np.NaN]\n",
    "    \n",
    "X = np.array( df['value'].progress_apply( convert ).to_list() )\n",
    "y = df['type'].to_numpy()\n",
    "\n",
    "\n",
    "# Remove NaN records\n",
    "df_temp = pd.DataFrame(X)\n",
    "df_temp['y'] = y\n",
    "df_temp = df_temp.dropna()\n",
    "\n",
    "# Save data\n",
    "np.savez('Data/data.npz', X=df_temp.iloc[:,:-1].to_numpy(), y=df_temp.iloc[:,-1].to_numpy())"
   ]
  }
 ],
 "metadata": {
  "kernelspec": {
   "display_name": "ML",
   "language": "python",
   "name": "python3"
  },
  "language_info": {
   "codemirror_mode": {
    "name": "ipython",
    "version": 3
   },
   "file_extension": ".py",
   "mimetype": "text/x-python",
   "name": "python",
   "nbconvert_exporter": "python",
   "pygments_lexer": "ipython3",
   "version": "3.7.10"
  },
  "orig_nbformat": 4
 },
 "nbformat": 4,
 "nbformat_minor": 2
}
